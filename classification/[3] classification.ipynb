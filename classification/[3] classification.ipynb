{
  "nbformat": 4,
  "nbformat_minor": 0,
  "metadata": {
    "accelerator": "GPU",
    "colab": {
      "name": "classification_beautiful.ipynb",
      "provenance": [],
      "collapsed_sections": [],
      "toc_visible": true,
      "machine_shape": "hm"
    },
    "kernelspec": {
      "display_name": "Python 3",
      "name": "python3"
    },
    "language_info": {
      "name": "python"
    },
    "widgets": {
      "application/vnd.jupyter.widget-state+json": {
        "77b3c8a1e3824f3e890d44b96f32f49f": {
          "model_module": "@jupyter-widgets/controls",
          "model_name": "HBoxModel",
          "state": {
            "_view_name": "HBoxView",
            "_dom_classes": [],
            "_model_name": "HBoxModel",
            "_view_module": "@jupyter-widgets/controls",
            "_model_module_version": "1.5.0",
            "_view_count": null,
            "_view_module_version": "1.5.0",
            "box_style": "",
            "layout": "IPY_MODEL_bc801dbf33d5425d9b64ae1ebee6b7e0",
            "_model_module": "@jupyter-widgets/controls",
            "children": [
              "IPY_MODEL_07e5c220f90a4d969ecbdefa71415398",
              "IPY_MODEL_0d3716caa7824ae0ab275f67fa15088d"
            ]
          }
        },
        "bc801dbf33d5425d9b64ae1ebee6b7e0": {
          "model_module": "@jupyter-widgets/base",
          "model_name": "LayoutModel",
          "state": {
            "_view_name": "LayoutView",
            "grid_template_rows": null,
            "right": null,
            "justify_content": null,
            "_view_module": "@jupyter-widgets/base",
            "overflow": null,
            "_model_module_version": "1.2.0",
            "_view_count": null,
            "flex_flow": null,
            "width": null,
            "min_width": null,
            "border": null,
            "align_items": null,
            "bottom": null,
            "_model_module": "@jupyter-widgets/base",
            "top": null,
            "grid_column": null,
            "overflow_y": null,
            "overflow_x": null,
            "grid_auto_flow": null,
            "grid_area": null,
            "grid_template_columns": null,
            "flex": null,
            "_model_name": "LayoutModel",
            "justify_items": null,
            "grid_row": null,
            "max_height": null,
            "align_content": null,
            "visibility": null,
            "align_self": null,
            "height": null,
            "min_height": null,
            "padding": null,
            "grid_auto_rows": null,
            "grid_gap": null,
            "max_width": null,
            "order": null,
            "_view_module_version": "1.2.0",
            "grid_template_areas": null,
            "object_position": null,
            "object_fit": null,
            "grid_auto_columns": null,
            "margin": null,
            "display": null,
            "left": null
          }
        },
        "07e5c220f90a4d969ecbdefa71415398": {
          "model_module": "@jupyter-widgets/controls",
          "model_name": "FloatProgressModel",
          "state": {
            "_view_name": "ProgressView",
            "style": "IPY_MODEL_1e5173c9fb964bfebbd091052d798c88",
            "_dom_classes": [],
            "description": "100%",
            "_model_name": "FloatProgressModel",
            "bar_style": "success",
            "max": 46827520,
            "_view_module": "@jupyter-widgets/controls",
            "_model_module_version": "1.5.0",
            "value": 46827520,
            "_view_count": null,
            "_view_module_version": "1.5.0",
            "orientation": "horizontal",
            "min": 0,
            "description_tooltip": null,
            "_model_module": "@jupyter-widgets/controls",
            "layout": "IPY_MODEL_58789a8374dc49f9bf9afc037aab80b5"
          }
        },
        "0d3716caa7824ae0ab275f67fa15088d": {
          "model_module": "@jupyter-widgets/controls",
          "model_name": "HTMLModel",
          "state": {
            "_view_name": "HTMLView",
            "style": "IPY_MODEL_63e5aa5b9e2940528c7ef1ef676b976b",
            "_dom_classes": [],
            "description": "",
            "_model_name": "HTMLModel",
            "placeholder": "​",
            "_view_module": "@jupyter-widgets/controls",
            "_model_module_version": "1.5.0",
            "value": " 44.7M/44.7M [00:00&lt;00:00, 72.4MB/s]",
            "_view_count": null,
            "_view_module_version": "1.5.0",
            "description_tooltip": null,
            "_model_module": "@jupyter-widgets/controls",
            "layout": "IPY_MODEL_a19c817b868c4c8385345407724c7903"
          }
        },
        "1e5173c9fb964bfebbd091052d798c88": {
          "model_module": "@jupyter-widgets/controls",
          "model_name": "ProgressStyleModel",
          "state": {
            "_view_name": "StyleView",
            "_model_name": "ProgressStyleModel",
            "description_width": "initial",
            "_view_module": "@jupyter-widgets/base",
            "_model_module_version": "1.5.0",
            "_view_count": null,
            "_view_module_version": "1.2.0",
            "bar_color": null,
            "_model_module": "@jupyter-widgets/controls"
          }
        },
        "58789a8374dc49f9bf9afc037aab80b5": {
          "model_module": "@jupyter-widgets/base",
          "model_name": "LayoutModel",
          "state": {
            "_view_name": "LayoutView",
            "grid_template_rows": null,
            "right": null,
            "justify_content": null,
            "_view_module": "@jupyter-widgets/base",
            "overflow": null,
            "_model_module_version": "1.2.0",
            "_view_count": null,
            "flex_flow": null,
            "width": null,
            "min_width": null,
            "border": null,
            "align_items": null,
            "bottom": null,
            "_model_module": "@jupyter-widgets/base",
            "top": null,
            "grid_column": null,
            "overflow_y": null,
            "overflow_x": null,
            "grid_auto_flow": null,
            "grid_area": null,
            "grid_template_columns": null,
            "flex": null,
            "_model_name": "LayoutModel",
            "justify_items": null,
            "grid_row": null,
            "max_height": null,
            "align_content": null,
            "visibility": null,
            "align_self": null,
            "height": null,
            "min_height": null,
            "padding": null,
            "grid_auto_rows": null,
            "grid_gap": null,
            "max_width": null,
            "order": null,
            "_view_module_version": "1.2.0",
            "grid_template_areas": null,
            "object_position": null,
            "object_fit": null,
            "grid_auto_columns": null,
            "margin": null,
            "display": null,
            "left": null
          }
        },
        "63e5aa5b9e2940528c7ef1ef676b976b": {
          "model_module": "@jupyter-widgets/controls",
          "model_name": "DescriptionStyleModel",
          "state": {
            "_view_name": "StyleView",
            "_model_name": "DescriptionStyleModel",
            "description_width": "",
            "_view_module": "@jupyter-widgets/base",
            "_model_module_version": "1.5.0",
            "_view_count": null,
            "_view_module_version": "1.2.0",
            "_model_module": "@jupyter-widgets/controls"
          }
        },
        "a19c817b868c4c8385345407724c7903": {
          "model_module": "@jupyter-widgets/base",
          "model_name": "LayoutModel",
          "state": {
            "_view_name": "LayoutView",
            "grid_template_rows": null,
            "right": null,
            "justify_content": null,
            "_view_module": "@jupyter-widgets/base",
            "overflow": null,
            "_model_module_version": "1.2.0",
            "_view_count": null,
            "flex_flow": null,
            "width": null,
            "min_width": null,
            "border": null,
            "align_items": null,
            "bottom": null,
            "_model_module": "@jupyter-widgets/base",
            "top": null,
            "grid_column": null,
            "overflow_y": null,
            "overflow_x": null,
            "grid_auto_flow": null,
            "grid_area": null,
            "grid_template_columns": null,
            "flex": null,
            "_model_name": "LayoutModel",
            "justify_items": null,
            "grid_row": null,
            "max_height": null,
            "align_content": null,
            "visibility": null,
            "align_self": null,
            "height": null,
            "min_height": null,
            "padding": null,
            "grid_auto_rows": null,
            "grid_gap": null,
            "max_width": null,
            "order": null,
            "_view_module_version": "1.2.0",
            "grid_template_areas": null,
            "object_position": null,
            "object_fit": null,
            "grid_auto_columns": null,
            "margin": null,
            "display": null,
            "left": null
          }
        }
      }
    }
  },
  "cells": [
    {
      "cell_type": "code",
      "metadata": {
        "id": "-fpEE4w6jlmF",
        "colab": {
          "base_uri": "https://localhost:8080/"
        },
        "outputId": "b4af1011-489e-43e0-9c11-ff758af32685"
      },
      "source": [
        "from google.colab import drive\n",
        "drive.mount('/content/drive')"
      ],
      "execution_count": null,
      "outputs": [
        {
          "output_type": "stream",
          "text": [
            "Drive already mounted at /content/drive; to attempt to forcibly remount, call drive.mount(\"/content/drive\", force_remount=True).\n"
          ],
          "name": "stdout"
        }
      ]
    },
    {
      "cell_type": "code",
      "metadata": {
        "id": "QvYaoCYfjmxK"
      },
      "source": [
        "import numpy as np\n",
        "import pandas as pd\n",
        "import matplotlib.pyplot as plt\n",
        "import seaborn as sns\n",
        "import torch\n",
        "import os\n",
        "import cv2\n",
        "from google.colab.patches import cv2_imshow\n",
        "import torch.optim as optim\n",
        "import torch\n",
        "import torch.nn as nn\n",
        "import torchvision\n",
        "from torchvision import models\n",
        "from torch.utils.data import Dataset, DataLoader\n",
        "import albumentations as A\n",
        "import glob\n",
        "from sklearn.model_selection import train_test_split\n",
        "from tqdm import tqdm\n",
        "import torch.nn.functional as F\n",
        "from sklearn.metrics import f1_score\n",
        "import random\n",
        "# imports the torch_xla package\n",
        "# import torch_xla\n",
        "# import torch_xla.core.xla_model as xm"
      ],
      "execution_count": null,
      "outputs": []
    },
    {
      "cell_type": "code",
      "metadata": {
        "id": "jXrRfUl4QABk",
        "colab": {
          "base_uri": "https://localhost:8080/"
        },
        "outputId": "e12bfdf5-ef85-40de-b94f-9e748b863094"
      },
      "source": [
        "DEVICE = torch.device(\"cuda\" if torch.cuda.is_available() else \"cpu\") \n",
        "# DEVICE = xm.xla_device()\n",
        "print(DEVICE)"
      ],
      "execution_count": null,
      "outputs": [
        {
          "output_type": "stream",
          "text": [
            "cuda\n"
          ],
          "name": "stdout"
        }
      ]
    },
    {
      "cell_type": "code",
      "metadata": {
        "id": "D0SCaFvmjuY0"
      },
      "source": [
        "IMAGES_COVID = '/content/drive/MyDrive/diploma_project/new/covid/'\n",
        "IMAGES_NORMAL = '/content/drive/MyDrive/diploma_project/new/normal/'\n",
        "IMAGES_PNEUMONIA = '/content/drive/MyDrive/diploma_project/new/pneumonia/'\n",
        "MASKS = '/content/drive/MyDrive/diploma_project/3cl_masks/'\n",
        "BASE_PATH = '/content/drive/MyDrive/diploma_project/new/'\n",
        "INFO = BASE_PATH + 'new.csv'"
      ],
      "execution_count": null,
      "outputs": []
    },
    {
      "cell_type": "code",
      "metadata": {
        "colab": {
          "base_uri": "https://localhost:8080/"
        },
        "id": "kDPYUT0rOmSK",
        "outputId": "51d422e0-f64a-4f08-fa3b-08c948200e60"
      },
      "source": [
        "print(os.path.exists(IMAGES_COVID))\n",
        "print(os.path.exists(IMAGES_NORMAL))\n",
        "print(os.path.exists(IMAGES_PNEUMONIA))\n",
        "print(os.path.exists(MASKS))\n",
        "print(os.path.exists(BASE_PATH))\n",
        "print(os.path.exists(INFO))"
      ],
      "execution_count": null,
      "outputs": [
        {
          "output_type": "stream",
          "text": [
            "True\n",
            "True\n",
            "True\n",
            "True\n",
            "True\n",
            "True\n"
          ],
          "name": "stdout"
        }
      ]
    },
    {
      "cell_type": "code",
      "metadata": {
        "id": "86zrDFR8SA1K"
      },
      "source": [
        "NB_CLASSES = 3\n",
        "EPOCHS = 50\n",
        "BATCH_SIZE = 6\n",
        "IMG_SIZE = 1024\n",
        "PATCH_SIZE = 224"
      ],
      "execution_count": null,
      "outputs": []
    },
    {
      "cell_type": "code",
      "metadata": {
        "id": "s7wmu3NEBs9-"
      },
      "source": [
        "new_data = pd.DataFrame(columns=['filename', 'type'])"
      ],
      "execution_count": null,
      "outputs": []
    },
    {
      "cell_type": "code",
      "metadata": {
        "id": "wgTrqj8qB0sR"
      },
      "source": [
        "for f in os.listdir(IMAGES_COVID):\n",
        "  new_data = new_data.append({'filename': f, 'type': 'covid'}, ignore_index=True)\n",
        "\n",
        "for f in os.listdir(IMAGES_NORMAL):\n",
        "  new_data = new_data.append({'filename': f, 'type': 'normal'}, ignore_index=True)\n",
        "\n",
        "for f in os.listdir(IMAGES_PNEUMONIA):\n",
        "  new_data = new_data.append({'filename': f, 'type': 'pneumonia'}, ignore_index=True)"
      ],
      "execution_count": null,
      "outputs": []
    },
    {
      "cell_type": "code",
      "metadata": {
        "id": "PzJoTBZXB0pZ"
      },
      "source": [
        "new_data.to_csv(BASE_PATH + 'new.csv')"
      ],
      "execution_count": null,
      "outputs": []
    },
    {
      "cell_type": "code",
      "metadata": {
        "id": "oNBhzh5r1b3R"
      },
      "source": [
        "def pre_processing(images, flag_jsrt = 0):\n",
        "\n",
        "    # histogram\n",
        "    num_out_bit = 256\n",
        "    num_bin = int(images.max()+1)\n",
        "\n",
        "    # histogram specification, gamma correction\n",
        "    hist, bins = np.histogram(images.flatten(), num_bin, [0, num_bin])\n",
        "    cdf = hist_specification(hist, num_out_bit, int(images.min()), num_bin, flag_jsrt)\n",
        "    images = cdf[images].astype('float32')\n",
        "\n",
        "    return images\n",
        "\n",
        "\n",
        "def hist_specification(hist, bit_output, min_roi, max_roi, flag_jsrt):\n",
        "\n",
        "    cdf = hist.cumsum()\n",
        "    cdf = np.ma.masked_equal(cdf, 0)\n",
        "\n",
        "    # hist sum of low & high\n",
        "    hist_low = np.sum(hist[:min_roi+1]) + flag_jsrt\n",
        "    hist_high = int(cdf.max()) - np.sum(hist[max_roi:])\n",
        "\n",
        "    # cdf mask\n",
        "    cdf_m = np.ma.masked_outside(cdf, hist_low, hist_high)\n",
        "\n",
        "    # build cdf_modified\n",
        "    if not (flag_jsrt):\n",
        "        cdf_m = (cdf_m - int(cdf_m.min()))*(bit_output-1) / (int(cdf_m.max()) - int(cdf_m.min()))\n",
        "    else:\n",
        "        cdf_m = (bit_output-1) - (cdf_m - cdf_m.min())*(bit_output-1) / (cdf_m.max() - cdf_m.min())\n",
        "    cdf = np.ma.filled(cdf_m.astype('float32'), 0)\n",
        "\n",
        "    # gamma correction\n",
        "    cdf = pow(cdf/(bit_output-1), 0.5) * (bit_output-1)\n",
        "\n",
        "    return cdf"
      ],
      "execution_count": null,
      "outputs": []
    },
    {
      "cell_type": "code",
      "metadata": {
        "id": "VadlT3Dfz5od"
      },
      "source": [
        "class XRayDataset(Dataset):\n",
        "  \n",
        "  def __init__(self, csv_path, img_dir, mask_dir, augmentation=None):\n",
        "    self.description = pd.read_csv(csv_path)\n",
        "    self.img_dir = img_dir\n",
        "    self.mask_dir = mask_dir\n",
        "    self.aug_transform = augmentation\n",
        "    self.filename = '-'\n",
        "\n",
        "  def __getitem__(self, idx):\n",
        "\n",
        "    filename = self.description.iloc[idx]['filename']\n",
        "    self.filename = filename\n",
        "    img_path = self.img_dir\n",
        "    label = -1\n",
        "    if self.description.iloc[idx]['type'] == 'covid':\n",
        "      img_path = os.path.join(img_path, 'covid')\n",
        "      label = 2\n",
        "    elif self.description.iloc[idx]['type'] == 'normal':\n",
        "      img_path = os.path.join(img_path, 'normal')\n",
        "      label = 0\n",
        "    elif self.description.iloc[idx]['type'] == 'pneumonia':\n",
        "      img_path = os.path.join(img_path, 'pneumonia')\n",
        "      label = 1\n",
        "\n",
        "    img = cv2.imread(os.path.join(img_path, filename))\n",
        "    img = cv2.resize(img, (IMG_SIZE, IMG_SIZE), interpolation=cv2.INTER_NEAREST)\n",
        "    img = pre_processing(img)\n",
        "    img = img.astype(\"float32\")\n",
        "    mask = np.load(os.path.join(self.mask_dir, filename + '.npy'))\n",
        "\n",
        "    mask = np.clip(mask, 0, 1).astype(\"float32\")\n",
        "    try:\n",
        "        mask = cv2.resize(mask, (IMG_SIZE, IMG_SIZE), interpolation=cv2.INTER_NEAREST)\n",
        "    except:\n",
        "        print(\"mask is None\")\n",
        "        print(filename)\n",
        "\n",
        "    if mask.max() > 0:\n",
        "      img[:,:,0] *= mask\n",
        "      img[:,:,1] *= mask\n",
        "      img[:,:,2] *= mask\n",
        "\n",
        "    non_zero_list = np.nonzero(img)\n",
        "\n",
        "    non_zero_row = random.choice(non_zero_list[0]) # random non-zero row index\n",
        "    non_zero_col = random.choice(non_zero_list[1]) # random non-zero col index\n",
        "\n",
        "    img_patch = img[int(max(0, non_zero_row - (PATCH_SIZE / 2))):\n",
        "                       int(min(IMG_SIZE, non_zero_row + (PATCH_SIZE / 2))),\n",
        "                       int(max(0, non_zero_col - (PATCH_SIZE / 2))):\n",
        "                       int(min(IMG_SIZE, non_zero_col + (PATCH_SIZE / 2)))]\n",
        "    \n",
        "    if self.aug_transform:\n",
        "        img_patch = self.aug_transform(image=img_patch)['image']\n",
        "\n",
        "    return torch.FloatTensor(img_patch), label\n",
        "\n",
        "  def __len__(self):\n",
        "    return len(self.description)"
      ],
      "execution_count": null,
      "outputs": []
    },
    {
      "cell_type": "code",
      "metadata": {
        "id": "uCCCU4ORp6Fe"
      },
      "source": [
        "transforms = A.Compose([\n",
        "    A.Resize(height=PATCH_SIZE, width=PATCH_SIZE, p=1.0),\n",
        "    A.HorizontalFlip(p=0.5),\n",
        "    A.RandomRotate90(p=0.4),\n",
        "    A.Transpose(p=0.4),\n",
        "    A.ShiftScaleRotate(shift_limit=0.0625, scale_limit=0.2, rotate_limit=45, p=0.2),\n",
        "        ])\n",
        "\n",
        "test_transforms = A.Compose([\n",
        "    A.Resize(height=PATCH_SIZE, width=PATCH_SIZE, p=1.0),\n",
        "        ])"
      ],
      "execution_count": null,
      "outputs": []
    },
    {
      "cell_type": "code",
      "metadata": {
        "id": "Rdj9aoktcBIv",
        "colab": {
          "base_uri": "https://localhost:8080/",
          "height": 419
        },
        "outputId": "2c784381-6555-49a1-9a8f-8c7083a0040d"
      },
      "source": [
        "data = pd.read_csv(INFO)\n",
        "data"
      ],
      "execution_count": null,
      "outputs": [
        {
          "output_type": "execute_result",
          "data": {
            "text/html": [
              "<div>\n",
              "<style scoped>\n",
              "    .dataframe tbody tr th:only-of-type {\n",
              "        vertical-align: middle;\n",
              "    }\n",
              "\n",
              "    .dataframe tbody tr th {\n",
              "        vertical-align: top;\n",
              "    }\n",
              "\n",
              "    .dataframe thead th {\n",
              "        text-align: right;\n",
              "    }\n",
              "</style>\n",
              "<table border=\"1\" class=\"dataframe\">\n",
              "  <thead>\n",
              "    <tr style=\"text-align: right;\">\n",
              "      <th></th>\n",
              "      <th>Unnamed: 0</th>\n",
              "      <th>filename</th>\n",
              "      <th>type</th>\n",
              "    </tr>\n",
              "  </thead>\n",
              "  <tbody>\n",
              "    <tr>\n",
              "      <th>0</th>\n",
              "      <td>0</td>\n",
              "      <td>COVID-19 (374).jpg</td>\n",
              "      <td>covid</td>\n",
              "    </tr>\n",
              "    <tr>\n",
              "      <th>1</th>\n",
              "      <td>1</td>\n",
              "      <td>COVID19(339).jpg</td>\n",
              "      <td>covid</td>\n",
              "    </tr>\n",
              "    <tr>\n",
              "      <th>2</th>\n",
              "      <td>2</td>\n",
              "      <td>COVID19(413).jpg</td>\n",
              "      <td>covid</td>\n",
              "    </tr>\n",
              "    <tr>\n",
              "      <th>3</th>\n",
              "      <td>3</td>\n",
              "      <td>COVID-19 (304).jpg</td>\n",
              "      <td>covid</td>\n",
              "    </tr>\n",
              "    <tr>\n",
              "      <th>4</th>\n",
              "      <td>4</td>\n",
              "      <td>COVID19(52).jpg</td>\n",
              "      <td>covid</td>\n",
              "    </tr>\n",
              "    <tr>\n",
              "      <th>...</th>\n",
              "      <td>...</td>\n",
              "      <td>...</td>\n",
              "      <td>...</td>\n",
              "    </tr>\n",
              "    <tr>\n",
              "      <th>6934</th>\n",
              "      <td>6934</td>\n",
              "      <td>person80_virus_150.jpeg</td>\n",
              "      <td>pneumonia</td>\n",
              "    </tr>\n",
              "    <tr>\n",
              "      <th>6935</th>\n",
              "      <td>6935</td>\n",
              "      <td>person918_virus_1575.jpeg</td>\n",
              "      <td>pneumonia</td>\n",
              "    </tr>\n",
              "    <tr>\n",
              "      <th>6936</th>\n",
              "      <td>6936</td>\n",
              "      <td>person906_bacteria_2831.jpeg</td>\n",
              "      <td>pneumonia</td>\n",
              "    </tr>\n",
              "    <tr>\n",
              "      <th>6937</th>\n",
              "      <td>6937</td>\n",
              "      <td>person844_virus_1487.jpeg</td>\n",
              "      <td>pneumonia</td>\n",
              "    </tr>\n",
              "    <tr>\n",
              "      <th>6938</th>\n",
              "      <td>6938</td>\n",
              "      <td>person699_virus_1295.jpeg</td>\n",
              "      <td>pneumonia</td>\n",
              "    </tr>\n",
              "  </tbody>\n",
              "</table>\n",
              "<p>6939 rows × 3 columns</p>\n",
              "</div>"
            ],
            "text/plain": [
              "      Unnamed: 0                      filename       type\n",
              "0              0            COVID-19 (374).jpg      covid\n",
              "1              1              COVID19(339).jpg      covid\n",
              "2              2              COVID19(413).jpg      covid\n",
              "3              3            COVID-19 (304).jpg      covid\n",
              "4              4               COVID19(52).jpg      covid\n",
              "...          ...                           ...        ...\n",
              "6934        6934       person80_virus_150.jpeg  pneumonia\n",
              "6935        6935     person918_virus_1575.jpeg  pneumonia\n",
              "6936        6936  person906_bacteria_2831.jpeg  pneumonia\n",
              "6937        6937     person844_virus_1487.jpeg  pneumonia\n",
              "6938        6938     person699_virus_1295.jpeg  pneumonia\n",
              "\n",
              "[6939 rows x 3 columns]"
            ]
          },
          "metadata": {
            "tags": []
          },
          "execution_count": 13
        }
      ]
    },
    {
      "cell_type": "code",
      "metadata": {
        "colab": {
          "base_uri": "https://localhost:8080/"
        },
        "id": "Nd8baOkr8GiF",
        "outputId": "b0a6c768-b11e-408f-9533-a46deb706710"
      },
      "source": [
        "train_val_df, test_df = train_test_split(data, test_size=0.2, random_state=42)\n",
        "train_df, val_df = train_test_split(train_val_df, test_size=0.125, random_state=41)\n",
        "len(train_df), len(val_df), len(test_df)"
      ],
      "execution_count": null,
      "outputs": [
        {
          "output_type": "execute_result",
          "data": {
            "text/plain": [
              "(4857, 694, 1388)"
            ]
          },
          "metadata": {
            "tags": []
          },
          "execution_count": 155
        }
      ]
    },
    {
      "cell_type": "code",
      "metadata": {
        "colab": {
          "base_uri": "https://localhost:8080/"
        },
        "id": "YE2QgRsE8jE6",
        "outputId": "622e3899-be54-41ba-ee23-8869688162e3"
      },
      "source": [
        "def count_classes_parts(df):\n",
        "  c = len(df[df['type'] == 'covid'])\n",
        "  n = len(df[df['type'] == 'normal'])\n",
        "  p = len(df[df['type'] == 'pneumonia'])\n",
        "  all = len(df)\n",
        "  print('c\\tn\\tp')\n",
        "  print(c, n, p, sep='\\t')\n",
        "  print(\"{:.2f}\".format(c / all), \"{:.2f}\".format(n / all), \"{:.2f}\".format(p / all), sep='\\t')\n",
        "\n",
        "print('train:')\n",
        "count_classes_parts(train_df)\n",
        "print('val:')\n",
        "count_classes_parts(val_df)\n",
        "print('test')\n",
        "count_classes_parts(test_df)"
      ],
      "execution_count": null,
      "outputs": [
        {
          "output_type": "stream",
          "text": [
            "train:\n",
            "c\tn\tp\n",
            "1594\t1619\t1644\n",
            "0.33\t0.33\t0.34\n",
            "val:\n",
            "c\tn\tp\n",
            "239\t233\t222\n",
            "0.34\t0.34\t0.32\n",
            "test\n",
            "c\tn\tp\n",
            "480\t461\t447\n",
            "0.35\t0.33\t0.32\n"
          ],
          "name": "stdout"
        }
      ]
    },
    {
      "cell_type": "code",
      "metadata": {
        "id": "v7VCBcWMOEGV"
      },
      "source": [
        "train_df.to_csv(BASE_PATH + 'train.csv')\n",
        "val_df.to_csv(BASE_PATH + 'val.csv')\n",
        "test_df.to_csv(BASE_PATH + 'test.csv')"
      ],
      "execution_count": null,
      "outputs": []
    },
    {
      "cell_type": "code",
      "metadata": {
        "id": "MSouwuqI6Bt8"
      },
      "source": [
        "train_df = pd.read_csv(BASE_PATH + 'train.csv')\n",
        "val_df = pd.read_csv(BASE_PATH + 'val.csv')\n",
        "test_df = pd.read_csv(BASE_PATH + 'test.csv')"
      ],
      "execution_count": null,
      "outputs": []
    },
    {
      "cell_type": "code",
      "metadata": {
        "id": "Q9SA09ARp6CN"
      },
      "source": [
        "# train\n",
        "train_dataset = XRayDataset(csv_path=BASE_PATH + 'train.csv', img_dir=BASE_PATH, \n",
        "                             mask_dir=MASKS, augmentation=transforms)\n",
        "\n",
        "train_dataloader = DataLoader(train_dataset, batch_size=BATCH_SIZE, num_workers=4, \n",
        "                              shuffle=True)\n",
        "\n",
        "# validation\n",
        "val_dataset = XRayDataset(csv_path=BASE_PATH + 'val.csv', img_dir=BASE_PATH,\n",
        "                             mask_dir=MASKS, augmentation=transforms)\n",
        "\n",
        "val_dataloader = DataLoader(val_dataset, batch_size=BATCH_SIZE, num_workers=4, \n",
        "                            shuffle=True)\n",
        "\n",
        "# test\n",
        "test_dataset = XRayDataset(csv_path=BASE_PATH + 'test.csv', img_dir=BASE_PATH, \n",
        "                             mask_dir=MASKS,  augmentation=test_transforms)\n",
        "\n",
        "test_dataloader = DataLoader(test_dataset, batch_size=BATCH_SIZE, num_workers=4, \n",
        "                             shuffle=False)"
      ],
      "execution_count": null,
      "outputs": []
    },
    {
      "cell_type": "code",
      "metadata": {
        "colab": {
          "base_uri": "https://localhost:8080/",
          "height": 1000,
          "referenced_widgets": [
            "77b3c8a1e3824f3e890d44b96f32f49f",
            "bc801dbf33d5425d9b64ae1ebee6b7e0",
            "07e5c220f90a4d969ecbdefa71415398",
            "0d3716caa7824ae0ab275f67fa15088d",
            "1e5173c9fb964bfebbd091052d798c88",
            "58789a8374dc49f9bf9afc037aab80b5",
            "63e5aa5b9e2940528c7ef1ef676b976b",
            "a19c817b868c4c8385345407724c7903"
          ]
        },
        "id": "Ro4ioT4ryozy",
        "outputId": "2534b189-50dd-4a12-af47-7e5a13d3d8a5"
      },
      "source": [
        "model = models.resnet18(pretrained=True)\n",
        "num_ftrs = model.fc.in_features\n",
        "model.fc = nn.Sequential(\n",
        "    nn.Linear(num_ftrs, NB_CLASSES),\n",
        "    nn.Sigmoid())\n",
        "model.to(DEVICE)"
      ],
      "execution_count": null,
      "outputs": [
        {
          "output_type": "stream",
          "text": [
            "Downloading: \"https://download.pytorch.org/models/resnet18-5c106cde.pth\" to /root/.cache/torch/hub/checkpoints/resnet18-5c106cde.pth\n"
          ],
          "name": "stderr"
        },
        {
          "output_type": "display_data",
          "data": {
            "application/vnd.jupyter.widget-view+json": {
              "model_id": "77b3c8a1e3824f3e890d44b96f32f49f",
              "version_minor": 0,
              "version_major": 2
            },
            "text/plain": [
              "HBox(children=(FloatProgress(value=0.0, max=46827520.0), HTML(value='')))"
            ]
          },
          "metadata": {
            "tags": []
          }
        },
        {
          "output_type": "stream",
          "text": [
            "\n"
          ],
          "name": "stdout"
        },
        {
          "output_type": "execute_result",
          "data": {
            "text/plain": [
              "ResNet(\n",
              "  (conv1): Conv2d(3, 64, kernel_size=(7, 7), stride=(2, 2), padding=(3, 3), bias=False)\n",
              "  (bn1): BatchNorm2d(64, eps=1e-05, momentum=0.1, affine=True, track_running_stats=True)\n",
              "  (relu): ReLU(inplace=True)\n",
              "  (maxpool): MaxPool2d(kernel_size=3, stride=2, padding=1, dilation=1, ceil_mode=False)\n",
              "  (layer1): Sequential(\n",
              "    (0): BasicBlock(\n",
              "      (conv1): Conv2d(64, 64, kernel_size=(3, 3), stride=(1, 1), padding=(1, 1), bias=False)\n",
              "      (bn1): BatchNorm2d(64, eps=1e-05, momentum=0.1, affine=True, track_running_stats=True)\n",
              "      (relu): ReLU(inplace=True)\n",
              "      (conv2): Conv2d(64, 64, kernel_size=(3, 3), stride=(1, 1), padding=(1, 1), bias=False)\n",
              "      (bn2): BatchNorm2d(64, eps=1e-05, momentum=0.1, affine=True, track_running_stats=True)\n",
              "    )\n",
              "    (1): BasicBlock(\n",
              "      (conv1): Conv2d(64, 64, kernel_size=(3, 3), stride=(1, 1), padding=(1, 1), bias=False)\n",
              "      (bn1): BatchNorm2d(64, eps=1e-05, momentum=0.1, affine=True, track_running_stats=True)\n",
              "      (relu): ReLU(inplace=True)\n",
              "      (conv2): Conv2d(64, 64, kernel_size=(3, 3), stride=(1, 1), padding=(1, 1), bias=False)\n",
              "      (bn2): BatchNorm2d(64, eps=1e-05, momentum=0.1, affine=True, track_running_stats=True)\n",
              "    )\n",
              "  )\n",
              "  (layer2): Sequential(\n",
              "    (0): BasicBlock(\n",
              "      (conv1): Conv2d(64, 128, kernel_size=(3, 3), stride=(2, 2), padding=(1, 1), bias=False)\n",
              "      (bn1): BatchNorm2d(128, eps=1e-05, momentum=0.1, affine=True, track_running_stats=True)\n",
              "      (relu): ReLU(inplace=True)\n",
              "      (conv2): Conv2d(128, 128, kernel_size=(3, 3), stride=(1, 1), padding=(1, 1), bias=False)\n",
              "      (bn2): BatchNorm2d(128, eps=1e-05, momentum=0.1, affine=True, track_running_stats=True)\n",
              "      (downsample): Sequential(\n",
              "        (0): Conv2d(64, 128, kernel_size=(1, 1), stride=(2, 2), bias=False)\n",
              "        (1): BatchNorm2d(128, eps=1e-05, momentum=0.1, affine=True, track_running_stats=True)\n",
              "      )\n",
              "    )\n",
              "    (1): BasicBlock(\n",
              "      (conv1): Conv2d(128, 128, kernel_size=(3, 3), stride=(1, 1), padding=(1, 1), bias=False)\n",
              "      (bn1): BatchNorm2d(128, eps=1e-05, momentum=0.1, affine=True, track_running_stats=True)\n",
              "      (relu): ReLU(inplace=True)\n",
              "      (conv2): Conv2d(128, 128, kernel_size=(3, 3), stride=(1, 1), padding=(1, 1), bias=False)\n",
              "      (bn2): BatchNorm2d(128, eps=1e-05, momentum=0.1, affine=True, track_running_stats=True)\n",
              "    )\n",
              "  )\n",
              "  (layer3): Sequential(\n",
              "    (0): BasicBlock(\n",
              "      (conv1): Conv2d(128, 256, kernel_size=(3, 3), stride=(2, 2), padding=(1, 1), bias=False)\n",
              "      (bn1): BatchNorm2d(256, eps=1e-05, momentum=0.1, affine=True, track_running_stats=True)\n",
              "      (relu): ReLU(inplace=True)\n",
              "      (conv2): Conv2d(256, 256, kernel_size=(3, 3), stride=(1, 1), padding=(1, 1), bias=False)\n",
              "      (bn2): BatchNorm2d(256, eps=1e-05, momentum=0.1, affine=True, track_running_stats=True)\n",
              "      (downsample): Sequential(\n",
              "        (0): Conv2d(128, 256, kernel_size=(1, 1), stride=(2, 2), bias=False)\n",
              "        (1): BatchNorm2d(256, eps=1e-05, momentum=0.1, affine=True, track_running_stats=True)\n",
              "      )\n",
              "    )\n",
              "    (1): BasicBlock(\n",
              "      (conv1): Conv2d(256, 256, kernel_size=(3, 3), stride=(1, 1), padding=(1, 1), bias=False)\n",
              "      (bn1): BatchNorm2d(256, eps=1e-05, momentum=0.1, affine=True, track_running_stats=True)\n",
              "      (relu): ReLU(inplace=True)\n",
              "      (conv2): Conv2d(256, 256, kernel_size=(3, 3), stride=(1, 1), padding=(1, 1), bias=False)\n",
              "      (bn2): BatchNorm2d(256, eps=1e-05, momentum=0.1, affine=True, track_running_stats=True)\n",
              "    )\n",
              "  )\n",
              "  (layer4): Sequential(\n",
              "    (0): BasicBlock(\n",
              "      (conv1): Conv2d(256, 512, kernel_size=(3, 3), stride=(2, 2), padding=(1, 1), bias=False)\n",
              "      (bn1): BatchNorm2d(512, eps=1e-05, momentum=0.1, affine=True, track_running_stats=True)\n",
              "      (relu): ReLU(inplace=True)\n",
              "      (conv2): Conv2d(512, 512, kernel_size=(3, 3), stride=(1, 1), padding=(1, 1), bias=False)\n",
              "      (bn2): BatchNorm2d(512, eps=1e-05, momentum=0.1, affine=True, track_running_stats=True)\n",
              "      (downsample): Sequential(\n",
              "        (0): Conv2d(256, 512, kernel_size=(1, 1), stride=(2, 2), bias=False)\n",
              "        (1): BatchNorm2d(512, eps=1e-05, momentum=0.1, affine=True, track_running_stats=True)\n",
              "      )\n",
              "    )\n",
              "    (1): BasicBlock(\n",
              "      (conv1): Conv2d(512, 512, kernel_size=(3, 3), stride=(1, 1), padding=(1, 1), bias=False)\n",
              "      (bn1): BatchNorm2d(512, eps=1e-05, momentum=0.1, affine=True, track_running_stats=True)\n",
              "      (relu): ReLU(inplace=True)\n",
              "      (conv2): Conv2d(512, 512, kernel_size=(3, 3), stride=(1, 1), padding=(1, 1), bias=False)\n",
              "      (bn2): BatchNorm2d(512, eps=1e-05, momentum=0.1, affine=True, track_running_stats=True)\n",
              "    )\n",
              "  )\n",
              "  (avgpool): AdaptiveAvgPool2d(output_size=(1, 1))\n",
              "  (fc): Sequential(\n",
              "    (0): Linear(in_features=512, out_features=3, bias=True)\n",
              "    (1): Sigmoid()\n",
              "  )\n",
              ")"
            ]
          },
          "metadata": {
            "tags": []
          },
          "execution_count": 15
        }
      ]
    },
    {
      "cell_type": "code",
      "metadata": {
        "id": "r-ZqPHYap57f"
      },
      "source": [
        "def train_one_epoch(model, optimizer, lr_scheduler, metric,\n",
        "                    dataloader, epoch, criterion):\n",
        "    \n",
        "    print(\"Start Train ...\")\n",
        "    model.train()\n",
        "\n",
        "    losses = []\n",
        "\n",
        "    y_score = []\n",
        "    y_true = []\n",
        "    y_pred = []\n",
        "    corrects = 0\n",
        "\n",
        "    for data, target in dataloader:\n",
        "\n",
        "        data = data.permute(0,3,1,2).to(DEVICE)\n",
        "        targets = target.unsqueeze(1).to(DEVICE)\n",
        "        targets_np = np.asarray(targets.cpu())\n",
        "\n",
        "        outputs = model(data)\n",
        "        out_cut = np.copy(outputs.data.cpu().numpy())\n",
        "\n",
        "        target = target.to(DEVICE)\n",
        "        loss = criterion(outputs, target)\n",
        "        l1_regularization = torch.tensor(0).to(DEVICE, dtype=float)\n",
        "        for param in model.parameters():\n",
        "            l1_regularization += torch.norm(param, 1)\n",
        "        loss += (1e-5 * l1_regularization)\n",
        "        losses.append(loss.item())\n",
        "\n",
        "        # metrics\n",
        "        _, preds = torch.max(outputs, 1)\n",
        "        corrects += torch.sum(preds == target.data)\n",
        "        pred_np = np.asarray(preds.cpu())\n",
        "\n",
        "        for i in range(len(data)):\n",
        "          y_score.append(out_cut[i][1])\n",
        "\n",
        "        for i in range(len(targets)):\n",
        "          y_true.append(targets_np[i])\n",
        "\n",
        "        for i in range(len(data)):\n",
        "          y_pred.append(pred_np[i])\n",
        "\n",
        "        optimizer.zero_grad()\n",
        "        loss.backward()\n",
        "        optimizer.step()\n",
        "        \n",
        "    if lr_scheduler is not None:\n",
        "        lr_scheduler.step()\n",
        "\n",
        "    lr = lr_scheduler.get_last_lr()[0]\n",
        "\n",
        "    epoch_acc = corrects.double() / len(dataloader.dataset)\n",
        "    epoch_f1 = metric(y_true, y_pred, average='macro')\n",
        "\n",
        "    print(\"Epoch [%d]\" % (epoch),\n",
        "          \"Mean loss on train:\", np.array(losses).mean(), \n",
        "          \"Mean accuracy on train: %.4f\" %epoch_acc,\n",
        "          \"Mean F1 score on train: %.4f\" %epoch_f1, \n",
        "          \"Learning Rate:\", lr)\n",
        "\n",
        "    return np.array(losses).mean(), epoch_acc, epoch_f1, lr\n",
        "\n",
        "\n",
        "def val_epoch(model, metric, dataloader, epoch, threshold=0.5):\n",
        "    \n",
        "    print(\"Start Validation ...\")\n",
        "    model.eval()\n",
        "    \n",
        "    y_score = []\n",
        "    y_true = []\n",
        "    y_pred = []\n",
        "    corrects = 0\n",
        "\n",
        "    with torch.no_grad():\n",
        "        for data, target in dataloader:\n",
        "            data = data.permute(0,3,1,2).to(DEVICE)\n",
        "            targets = target.unsqueeze(1).to(DEVICE)\n",
        "            targets_np = np.asarray(targets.cpu())\n",
        "\n",
        "            outputs = model(data)\n",
        "            out_cut = np.copy(outputs.data.cpu().numpy())\n",
        "\n",
        "            # metrics\n",
        "            target = target.to(DEVICE)\n",
        "            _, preds = torch.max(outputs, 1)\n",
        "            corrects += torch.sum(preds == target.data)\n",
        "            pred_np = np.asarray(preds.cpu())\n",
        "\n",
        "            for i in range(len(data)):\n",
        "              y_score.append(out_cut[i][1])\n",
        "\n",
        "            for i in range(len(targets)):\n",
        "              y_true.append(targets_np[i])\n",
        "\n",
        "            for i in range(len(data)):\n",
        "              y_pred.append(pred_np[i])\n",
        "            \n",
        "        epoch_acc = corrects.double() / len(dataloader.dataset)\n",
        "        epoch_f1 = metric(y_true, y_pred, average='macro')\n",
        "\n",
        "        print(\"Epoch [%d]\" % (epoch),  \"Threshold:\", threshold, \n",
        "          \"Mean Validation Accuracy: %.4f\" %epoch_acc,\n",
        "          \"Mean Validation F1 score: %.4f\" %epoch_f1)\n",
        "\n",
        "        return epoch_acc, epoch_f1"
      ],
      "execution_count": null,
      "outputs": []
    },
    {
      "cell_type": "code",
      "metadata": {
        "colab": {
          "base_uri": "https://localhost:8080/"
        },
        "id": "f-GUAhGggsdT",
        "outputId": "704834e9-ec48-435f-f103-1b3d4d482103"
      },
      "source": [
        "# for param in model.parameters():\n",
        "#     param.requires_grad = False\n",
        "    \n",
        "params = [p for p in model.parameters() if p.requires_grad]\n",
        "\n",
        "num_epochs = 50\n",
        "optimizer = optim.Adam(params, lr=1e-5, weight_decay=0.1)\n",
        "lr_scheduler = torch.optim.lr_scheduler.StepLR(optimizer, step_size=100, gamma=0.9)\n",
        "criterion = nn.CrossEntropyLoss()\n",
        "\n",
        "loss_history = []\n",
        "train_acc_history = []\n",
        "train_f1_history = []\n",
        "val_acc_history = []\n",
        "val_f1_history = []\n",
        "lr_history = []\n",
        "\n",
        "for epoch in range(num_epochs):\n",
        "\n",
        "        loss, train_acc, train_f1, lr = train_one_epoch(model, optimizer, lr_scheduler, \n",
        "                                             f1_score, train_dataloader, epoch, criterion)\n",
        "    \n",
        "        val_acc, val_f1 = val_epoch(model, f1_score, val_dataloader, epoch)\n",
        "        \n",
        "        \n",
        "        # train history\n",
        "        loss_history.append(loss)\n",
        "        train_acc_history.append(train_acc)\n",
        "        train_f1_history.append(train_f1)\n",
        "        lr_history.append(lr)\n",
        "        val_acc_history.append(val_acc)\n",
        "        val_f1_history.append(val_f1)\n",
        "\n",
        "        # save best weights\n",
        "        best_acc = max(val_acc_history)\n",
        "        if val_acc >= best_acc:\n",
        "            torch.save({'last_state_dict': model.state_dict()},\n",
        "                        os.path.join(BASE_PATH + 'weights_seg_patch_2/', f\"{val_acc:0.6f}_.pth\"))\n",
        "            \n",
        "print(loss_history)\n",
        "print(train_acc_history)\n",
        "print(train_f1_history)\n",
        "print(val_acc_history)\n",
        "print(val_f1_history)\n",
        "print(lr_history)"
      ],
      "execution_count": null,
      "outputs": [
        {
          "output_type": "stream",
          "text": [
            "Start Train ...\n",
            "Epoch [0] Mean loss on train: 2.3920029465063117 Mean accuracy on train: 0.5545 Mean F1 score on train: 0.5443 Learning Rate: 1e-05\n",
            "Start Validation ...\n",
            "Epoch [0] Threshold: 0.5 Mean Validation Accuracy: 0.7594 Mean Validation F1 score: 0.7586\n",
            "Start Train ...\n",
            "Epoch [1] Mean loss on train: 1.7836857312991294 Mean accuracy on train: 0.7212 Mean F1 score on train: 0.7200 Learning Rate: 1e-05\n",
            "Start Validation ...\n",
            "Epoch [1] Threshold: 0.5 Mean Validation Accuracy: 0.8098 Mean Validation F1 score: 0.8096\n",
            "Start Train ...\n",
            "Epoch [2] Mean loss on train: 1.44685169811602 Mean accuracy on train: 0.7509 Mean F1 score on train: 0.7501 Learning Rate: 1e-05\n",
            "Start Validation ...\n",
            "Epoch [2] Threshold: 0.5 Mean Validation Accuracy: 0.8689 Mean Validation F1 score: 0.8687\n",
            "Start Train ...\n",
            "Epoch [3] Mean loss on train: 1.2431622909910884 Mean accuracy on train: 0.7692 Mean F1 score on train: 0.7685 Learning Rate: 1e-05\n",
            "Start Validation ...\n",
            "Epoch [3] Threshold: 0.5 Mean Validation Accuracy: 0.8732 Mean Validation F1 score: 0.8724\n",
            "Start Train ...\n",
            "Epoch [4] Mean loss on train: 1.1216110807878 Mean accuracy on train: 0.7702 Mean F1 score on train: 0.7696 Learning Rate: 1e-05\n",
            "Start Validation ...\n",
            "Epoch [4] Threshold: 0.5 Mean Validation Accuracy: 0.8862 Mean Validation F1 score: 0.8857\n",
            "Start Train ...\n",
            "Epoch [5] Mean loss on train: 1.0426779721254185 Mean accuracy on train: 0.7772 Mean F1 score on train: 0.7767 Learning Rate: 1e-05\n",
            "Start Validation ...\n",
            "Epoch [5] Threshold: 0.5 Mean Validation Accuracy: 0.8948 Mean Validation F1 score: 0.8942\n",
            "Start Train ...\n",
            "Epoch [6] Mean loss on train: 0.988605436940252 Mean accuracy on train: 0.7840 Mean F1 score on train: 0.7832 Learning Rate: 1e-05\n",
            "Start Validation ...\n",
            "Epoch [6] Threshold: 0.5 Mean Validation Accuracy: 0.8386 Mean Validation F1 score: 0.8362\n",
            "Start Train ...\n",
            "Epoch [7] Mean loss on train: 0.9404140664471521 Mean accuracy on train: 0.7960 Mean F1 score on train: 0.7951 Learning Rate: 1e-05\n",
            "Start Validation ...\n",
            "Epoch [7] Threshold: 0.5 Mean Validation Accuracy: 0.8573 Mean Validation F1 score: 0.8571\n",
            "Start Train ...\n",
            "Epoch [8] Mean loss on train: 0.9238933306417347 Mean accuracy on train: 0.7900 Mean F1 score on train: 0.7893 Learning Rate: 1e-05\n",
            "Start Validation ...\n",
            "Epoch [8] Threshold: 0.5 Mean Validation Accuracy: 0.8876 Mean Validation F1 score: 0.8868\n",
            "Start Train ...\n",
            "Epoch [9] Mean loss on train: 0.9024430938708929 Mean accuracy on train: 0.7933 Mean F1 score on train: 0.7924 Learning Rate: 1e-05\n",
            "Start Validation ...\n",
            "Epoch [9] Threshold: 0.5 Mean Validation Accuracy: 0.8588 Mean Validation F1 score: 0.8577\n",
            "Start Train ...\n",
            "Epoch [10] Mean loss on train: 0.8808783478207058 Mean accuracy on train: 0.7997 Mean F1 score on train: 0.7987 Learning Rate: 1e-05\n",
            "Start Validation ...\n",
            "Epoch [10] Threshold: 0.5 Mean Validation Accuracy: 0.8862 Mean Validation F1 score: 0.8857\n",
            "Start Train ...\n",
            "Epoch [11] Mean loss on train: 0.8694049936753733 Mean accuracy on train: 0.7941 Mean F1 score on train: 0.7932 Learning Rate: 1e-05\n",
            "Start Validation ...\n",
            "Epoch [11] Threshold: 0.5 Mean Validation Accuracy: 0.8660 Mean Validation F1 score: 0.8647\n",
            "Start Train ...\n",
            "Epoch [12] Mean loss on train: 0.8492649917985187 Mean accuracy on train: 0.8139 Mean F1 score on train: 0.8134 Learning Rate: 1e-05\n",
            "Start Validation ...\n",
            "Epoch [12] Threshold: 0.5 Mean Validation Accuracy: 0.8588 Mean Validation F1 score: 0.8562\n",
            "Start Train ...\n",
            "Epoch [13] Mean loss on train: 0.8450909497561279 Mean accuracy on train: 0.8106 Mean F1 score on train: 0.8095 Learning Rate: 1e-05\n",
            "Start Validation ...\n",
            "Epoch [13] Threshold: 0.5 Mean Validation Accuracy: 0.8919 Mean Validation F1 score: 0.8914\n",
            "Start Train ...\n",
            "Epoch [14] Mean loss on train: 0.8346277952930073 Mean accuracy on train: 0.8149 Mean F1 score on train: 0.8139 Learning Rate: 1e-05\n",
            "Start Validation ...\n",
            "Epoch [14] Threshold: 0.5 Mean Validation Accuracy: 0.8631 Mean Validation F1 score: 0.8619\n",
            "Start Train ...\n",
            "Epoch [15] Mean loss on train: 0.8171832080240603 Mean accuracy on train: 0.8271 Mean F1 score on train: 0.8264 Learning Rate: 1e-05\n",
            "Start Validation ...\n",
            "Epoch [15] Threshold: 0.5 Mean Validation Accuracy: 0.8905 Mean Validation F1 score: 0.8893\n",
            "Start Train ...\n",
            "Epoch [16] Mean loss on train: 0.8139976304254414 Mean accuracy on train: 0.8254 Mean F1 score on train: 0.8242 Learning Rate: 1e-05\n",
            "Start Validation ...\n",
            "Epoch [16] Threshold: 0.5 Mean Validation Accuracy: 0.8833 Mean Validation F1 score: 0.8828\n",
            "Start Train ...\n",
            "Epoch [17] Mean loss on train: 0.8063645832332564 Mean accuracy on train: 0.8289 Mean F1 score on train: 0.8282 Learning Rate: 1e-05\n",
            "Start Validation ...\n",
            "Epoch [17] Threshold: 0.5 Mean Validation Accuracy: 0.8890 Mean Validation F1 score: 0.8884\n",
            "Start Train ...\n",
            "Epoch [18] Mean loss on train: 0.8108513250027174 Mean accuracy on train: 0.8238 Mean F1 score on train: 0.8229 Learning Rate: 1e-05\n",
            "Start Validation ...\n",
            "Epoch [18] Threshold: 0.5 Mean Validation Accuracy: 0.8790 Mean Validation F1 score: 0.8783\n",
            "Start Train ...\n",
            "Epoch [19] Mean loss on train: 0.7983666024090331 Mean accuracy on train: 0.8343 Mean F1 score on train: 0.8337 Learning Rate: 1e-05\n",
            "Start Validation ...\n",
            "Epoch [19] Threshold: 0.5 Mean Validation Accuracy: 0.9049 Mean Validation F1 score: 0.9046\n",
            "Start Train ...\n",
            "Epoch [20] Mean loss on train: 0.7989620784182607 Mean accuracy on train: 0.8275 Mean F1 score on train: 0.8267 Learning Rate: 1e-05\n",
            "Start Validation ...\n",
            "Epoch [20] Threshold: 0.5 Mean Validation Accuracy: 0.8602 Mean Validation F1 score: 0.8590\n",
            "Start Train ...\n",
            "Epoch [21] Mean loss on train: 0.782177014189002 Mean accuracy on train: 0.8417 Mean F1 score on train: 0.8408 Learning Rate: 1e-05\n",
            "Start Validation ...\n",
            "Epoch [21] Threshold: 0.5 Mean Validation Accuracy: 0.8862 Mean Validation F1 score: 0.8853\n",
            "Start Train ...\n",
            "Epoch [22] Mean loss on train: 0.7905173749099543 Mean accuracy on train: 0.8281 Mean F1 score on train: 0.8272 Learning Rate: 1e-05\n",
            "Start Validation ...\n",
            "Epoch [22] Threshold: 0.5 Mean Validation Accuracy: 0.8689 Mean Validation F1 score: 0.8682\n",
            "Start Train ...\n",
            "Epoch [23] Mean loss on train: 0.7839326740782938 Mean accuracy on train: 0.8373 Mean F1 score on train: 0.8364 Learning Rate: 1e-05\n",
            "Start Validation ...\n",
            "Epoch [23] Threshold: 0.5 Mean Validation Accuracy: 0.8761 Mean Validation F1 score: 0.8761\n",
            "Start Train ...\n",
            "Epoch [24] Mean loss on train: 0.7813010351157482 Mean accuracy on train: 0.8390 Mean F1 score on train: 0.8384 Learning Rate: 1e-05\n",
            "Start Validation ...\n",
            "Epoch [24] Threshold: 0.5 Mean Validation Accuracy: 0.8545 Mean Validation F1 score: 0.8530\n",
            "Start Train ...\n",
            "Epoch [25] Mean loss on train: 0.7790834061157557 Mean accuracy on train: 0.8336 Mean F1 score on train: 0.8330 Learning Rate: 1e-05\n",
            "Start Validation ...\n",
            "Epoch [25] Threshold: 0.5 Mean Validation Accuracy: 0.8804 Mean Validation F1 score: 0.8782\n",
            "Start Train ...\n",
            "Epoch [26] Mean loss on train: 0.7721927937166191 Mean accuracy on train: 0.8411 Mean F1 score on train: 0.8405 Learning Rate: 1e-05\n",
            "Start Validation ...\n",
            "Epoch [26] Threshold: 0.5 Mean Validation Accuracy: 0.8674 Mean Validation F1 score: 0.8660\n",
            "Start Train ...\n",
            "Epoch [27] Mean loss on train: 0.7721179986441576 Mean accuracy on train: 0.8392 Mean F1 score on train: 0.8385 Learning Rate: 1e-05\n",
            "Start Validation ...\n",
            "Epoch [27] Threshold: 0.5 Mean Validation Accuracy: 0.8746 Mean Validation F1 score: 0.8748\n",
            "Start Train ...\n",
            "Epoch [28] Mean loss on train: 0.7729941295252906 Mean accuracy on train: 0.8361 Mean F1 score on train: 0.8354 Learning Rate: 1e-05\n",
            "Start Validation ...\n",
            "Epoch [28] Threshold: 0.5 Mean Validation Accuracy: 0.9020 Mean Validation F1 score: 0.9011\n",
            "Start Train ...\n",
            "Epoch [29] Mean loss on train: 0.7725381088845524 Mean accuracy on train: 0.8359 Mean F1 score on train: 0.8350 Learning Rate: 1e-05\n",
            "Start Validation ...\n",
            "Epoch [29] Threshold: 0.5 Mean Validation Accuracy: 0.8847 Mean Validation F1 score: 0.8839\n",
            "Start Train ...\n",
            "Epoch [30] Mean loss on train: 0.768959402596509 Mean accuracy on train: 0.8404 Mean F1 score on train: 0.8397 Learning Rate: 1e-05\n",
            "Start Validation ...\n",
            "Epoch [30] Threshold: 0.5 Mean Validation Accuracy: 0.9020 Mean Validation F1 score: 0.9016\n",
            "Start Train ...\n",
            "Epoch [31] Mean loss on train: 0.7678896404342886 Mean accuracy on train: 0.8417 Mean F1 score on train: 0.8406 Learning Rate: 1e-05\n",
            "Start Validation ...\n",
            "Epoch [31] Threshold: 0.5 Mean Validation Accuracy: 0.8963 Mean Validation F1 score: 0.8952\n",
            "Start Train ...\n",
            "Epoch [32] Mean loss on train: 0.7658771148434391 Mean accuracy on train: 0.8394 Mean F1 score on train: 0.8385 Learning Rate: 1e-05\n",
            "Start Validation ...\n",
            "Epoch [32] Threshold: 0.5 Mean Validation Accuracy: 0.8934 Mean Validation F1 score: 0.8929\n",
            "Start Train ...\n",
            "Epoch [33] Mean loss on train: 0.7609194639288349 Mean accuracy on train: 0.8470 Mean F1 score on train: 0.8464 Learning Rate: 1e-05\n",
            "Start Validation ...\n",
            "Epoch [33] Threshold: 0.5 Mean Validation Accuracy: 0.8977 Mean Validation F1 score: 0.8976\n",
            "Start Train ...\n",
            "Epoch [34] Mean loss on train: 0.7591991890359808 Mean accuracy on train: 0.8441 Mean F1 score on train: 0.8435 Learning Rate: 1e-05\n",
            "Start Validation ...\n",
            "Epoch [34] Threshold: 0.5 Mean Validation Accuracy: 0.9092 Mean Validation F1 score: 0.9080\n",
            "Start Train ...\n",
            "Epoch [35] Mean loss on train: 0.7615755685317663 Mean accuracy on train: 0.8419 Mean F1 score on train: 0.8411 Learning Rate: 1e-05\n",
            "Start Validation ...\n",
            "Epoch [35] Threshold: 0.5 Mean Validation Accuracy: 0.8919 Mean Validation F1 score: 0.8906\n",
            "Start Train ...\n",
            "Epoch [36] Mean loss on train: 0.7558310415273831 Mean accuracy on train: 0.8489 Mean F1 score on train: 0.8483 Learning Rate: 1e-05\n",
            "Start Validation ...\n",
            "Epoch [36] Threshold: 0.5 Mean Validation Accuracy: 0.8963 Mean Validation F1 score: 0.8959\n",
            "Start Train ...\n",
            "Epoch [37] Mean loss on train: 0.7420855000431155 Mean accuracy on train: 0.8660 Mean F1 score on train: 0.8653 Learning Rate: 1e-05\n",
            "Start Validation ...\n",
            "Epoch [37] Threshold: 0.5 Mean Validation Accuracy: 0.9006 Mean Validation F1 score: 0.9003\n",
            "Start Train ...\n",
            "Epoch [38] Mean loss on train: 0.755036520148501 Mean accuracy on train: 0.8433 Mean F1 score on train: 0.8425 Learning Rate: 1e-05\n",
            "Start Validation ...\n",
            "Epoch [38] Threshold: 0.5 Mean Validation Accuracy: 0.8790 Mean Validation F1 score: 0.8774\n",
            "Start Train ...\n",
            "Epoch [39] Mean loss on train: 0.7503746336624946 Mean accuracy on train: 0.8483 Mean F1 score on train: 0.8472 Learning Rate: 1e-05\n",
            "Start Validation ...\n",
            "Epoch [39] Threshold: 0.5 Mean Validation Accuracy: 0.9049 Mean Validation F1 score: 0.9043\n",
            "Start Train ...\n",
            "Epoch [40] Mean loss on train: 0.7452728587168235 Mean accuracy on train: 0.8555 Mean F1 score on train: 0.8545 Learning Rate: 1e-05\n",
            "Start Validation ...\n",
            "Epoch [40] Threshold: 0.5 Mean Validation Accuracy: 0.8732 Mean Validation F1 score: 0.8703\n",
            "Start Train ...\n",
            "Epoch [41] Mean loss on train: 0.7466750894063785 Mean accuracy on train: 0.8493 Mean F1 score on train: 0.8488 Learning Rate: 1e-05\n",
            "Start Validation ...\n",
            "Epoch [41] Threshold: 0.5 Mean Validation Accuracy: 0.8775 Mean Validation F1 score: 0.8760\n",
            "Start Train ...\n",
            "Epoch [42] Mean loss on train: 0.7379190561947999 Mean accuracy on train: 0.8606 Mean F1 score on train: 0.8598 Learning Rate: 1e-05\n",
            "Start Validation ...\n",
            "Epoch [42] Threshold: 0.5 Mean Validation Accuracy: 0.8847 Mean Validation F1 score: 0.8848\n",
            "Start Train ...\n",
            "Epoch [43] Mean loss on train: 0.7459237462208594 Mean accuracy on train: 0.8546 Mean F1 score on train: 0.8542 Learning Rate: 1e-05\n",
            "Start Validation ...\n",
            "Epoch [43] Threshold: 0.5 Mean Validation Accuracy: 0.8746 Mean Validation F1 score: 0.8749\n",
            "Start Train ...\n",
            "Epoch [44] Mean loss on train: 0.7432136350943719 Mean accuracy on train: 0.8546 Mean F1 score on train: 0.8541 Learning Rate: 1e-05\n",
            "Start Validation ...\n",
            "Epoch [44] Threshold: 0.5 Mean Validation Accuracy: 0.9222 Mean Validation F1 score: 0.9215\n",
            "Start Train ...\n",
            "Epoch [45] Mean loss on train: 0.7441662695672777 Mean accuracy on train: 0.8513 Mean F1 score on train: 0.8506 Learning Rate: 1e-05\n",
            "Start Validation ...\n",
            "Epoch [45] Threshold: 0.5 Mean Validation Accuracy: 0.9020 Mean Validation F1 score: 0.9013\n",
            "Start Train ...\n",
            "Epoch [46] Mean loss on train: 0.7452419037436262 Mean accuracy on train: 0.8478 Mean F1 score on train: 0.8471 Learning Rate: 1e-05\n",
            "Start Validation ...\n",
            "Epoch [46] Threshold: 0.5 Mean Validation Accuracy: 0.8862 Mean Validation F1 score: 0.8860\n",
            "Start Train ...\n",
            "Epoch [47] Mean loss on train: 0.7445129125942419 Mean accuracy on train: 0.8503 Mean F1 score on train: 0.8497 Learning Rate: 1e-05\n",
            "Start Validation ...\n",
            "Epoch [47] Threshold: 0.5 Mean Validation Accuracy: 0.8847 Mean Validation F1 score: 0.8848\n",
            "Start Train ...\n"
          ],
          "name": "stdout"
        },
        {
          "output_type": "stream",
          "text": [
            "Exception ignored in: <function _MultiProcessingDataLoaderIter.__del__ at 0x7fe263477b00>\n",
            "Traceback (most recent call last):\n",
            "  File \"/usr/local/lib/python3.7/dist-packages/torch/utils/data/dataloader.py\", line 1324, in __del__\n",
            "    self._shutdown_workers()\n",
            "  File \"/usr/local/lib/python3.7/dist-packages/torch/utils/data/dataloader.py\", line 1316, in _shutdown_workers\n",
            "    if w.is_alive():\n",
            "  File \"/usr/lib/python3.7/multiprocessing/process.py\", line 151, in is_alive\n",
            "    assert self._parent_pid == os.getpid(), 'can only test a child process'\n",
            "AssertionError: can only test a child process\n",
            "Exception ignored in: <function _MultiProcessingDataLoaderIter.__del__ at 0x7fe263477b00>\n",
            "Traceback (most recent call last):\n",
            "  File \"/usr/local/lib/python3.7/dist-packages/torch/utils/data/dataloader.py\", line 1324, in __del__\n",
            "    self._shutdown_workers()\n",
            "  File \"/usr/local/lib/python3.7/dist-packages/torch/utils/data/dataloader.py\", line 1316, in _shutdown_workers\n",
            "    if w.is_alive():\n",
            "  File \"/usr/lib/python3.7/multiprocessing/process.py\", line 151, in is_alive\n",
            "    assert self._parent_pid == os.getpid(), 'can only test a child process'\n",
            "AssertionError: can only test a child process\n",
            "Exception ignored in: <function _MultiProcessingDataLoaderIter.__del__ at 0x7fe263477b00>\n",
            "Traceback (most recent call last):\n",
            "  File \"/usr/local/lib/python3.7/dist-packages/torch/utils/data/dataloader.py\", line 1324, in __del__\n",
            "    self._shutdown_workers()\n",
            "  File \"/usr/local/lib/python3.7/dist-packages/torch/utils/data/dataloader.py\", line 1316, in _shutdown_workers\n",
            "    if w.is_alive():\n",
            "Exception ignored in: <function _MultiProcessingDataLoaderIter.__del__ at 0x7fe263477b00>\n",
            "  File \"/usr/lib/python3.7/multiprocessing/process.py\", line 151, in is_alive\n",
            "    assert self._parent_pid == os.getpid(), 'can only test a child process'\n",
            "AssertionError: can only test a child process\n",
            "Traceback (most recent call last):\n",
            "  File \"/usr/local/lib/python3.7/dist-packages/torch/utils/data/dataloader.py\", line 1324, in __del__\n",
            "    self._shutdown_workers()\n",
            "  File \"/usr/local/lib/python3.7/dist-packages/torch/utils/data/dataloader.py\", line 1316, in _shutdown_workers\n",
            "Exception ignored in: <function _MultiProcessingDataLoaderIter.__del__ at 0x7fe263477b00>\n",
            "Traceback (most recent call last):\n",
            "  File \"/usr/local/lib/python3.7/dist-packages/torch/utils/data/dataloader.py\", line 1324, in __del__\n",
            "    if w.is_alive():\n",
            "  File \"/usr/lib/python3.7/multiprocessing/process.py\", line 151, in is_alive\n",
            "    assert self._parent_pid == os.getpid(), 'can only test a child process'\n",
            "AssertionError: can only test a child process\n",
            "    self._shutdown_workers()\n",
            "  File \"/usr/local/lib/python3.7/dist-packages/torch/utils/data/dataloader.py\", line 1316, in _shutdown_workers\n",
            "    if w.is_alive():\n",
            "  File \"/usr/lib/python3.7/multiprocessing/process.py\", line 151, in is_alive\n",
            "    assert self._parent_pid == os.getpid(), 'can only test a child process'\n",
            "AssertionError: can only test a child process\n",
            "Exception ignored in: <function _MultiProcessingDataLoaderIter.__del__ at 0x7fe263477b00>\n",
            "Traceback (most recent call last):\n",
            "  File \"/usr/local/lib/python3.7/dist-packages/torch/utils/data/dataloader.py\", line 1324, in __del__\n",
            "    self._shutdown_workers()\n",
            "  File \"/usr/local/lib/python3.7/dist-packages/torch/utils/data/dataloader.py\", line 1316, in _shutdown_workers\n",
            "    if w.is_alive():\n",
            "  File \"/usr/lib/python3.7/multiprocessing/process.py\", line 151, in is_alive\n",
            "    assert self._parent_pid == os.getpid(), 'can only test a child process'\n",
            "AssertionError: can only test a child process\n",
            "Exception ignored in: <function _MultiProcessingDataLoaderIter.__del__ at 0x7fe263477b00>\n",
            "Traceback (most recent call last):\n",
            "  File \"/usr/local/lib/python3.7/dist-packages/torch/utils/data/dataloader.py\", line 1324, in __del__\n",
            "    self._shutdown_workers()\n",
            "  File \"/usr/local/lib/python3.7/dist-packages/torch/utils/data/dataloader.py\", line 1316, in _shutdown_workers\n",
            "    if w.is_alive():\n",
            "  File \"/usr/lib/python3.7/multiprocessing/process.py\", line 151, in is_alive\n",
            "    assert self._parent_pid == os.getpid(), 'can only test a child process'\n",
            "AssertionError: can only test a child process\n",
            "Exception ignored in: <function _MultiProcessingDataLoaderIter.__del__ at 0x7fe263477b00>\n",
            "Traceback (most recent call last):\n",
            "  File \"/usr/local/lib/python3.7/dist-packages/torch/utils/data/dataloader.py\", line 1324, in __del__\n",
            "    self._shutdown_workers()\n",
            "  File \"/usr/local/lib/python3.7/dist-packages/torch/utils/data/dataloader.py\", line 1316, in _shutdown_workers\n",
            "    if w.is_alive():\n",
            "  File \"/usr/lib/python3.7/multiprocessing/process.py\", line 151, in is_alive\n",
            "    assert self._parent_pid == os.getpid(), 'can only test a child process'\n",
            "AssertionError: can only test a child process\n"
          ],
          "name": "stderr"
        },
        {
          "output_type": "stream",
          "text": [
            "Epoch [48] Mean loss on train: 0.7394972417825534 Mean accuracy on train: 0.8538 Mean F1 score on train: 0.8531 Learning Rate: 1e-05\n",
            "Start Validation ...\n",
            "Epoch [48] Threshold: 0.5 Mean Validation Accuracy: 0.8559 Mean Validation F1 score: 0.8547\n",
            "Start Train ...\n"
          ],
          "name": "stdout"
        },
        {
          "output_type": "stream",
          "text": [
            "Exception ignored in: <function _MultiProcessingDataLoaderIter.__del__ at 0x7fe263477b00>\n",
            "Traceback (most recent call last):\n",
            "Exception ignored in: <function _MultiProcessingDataLoaderIter.__del__ at 0x7fe263477b00>\n",
            "  File \"/usr/local/lib/python3.7/dist-packages/torch/utils/data/dataloader.py\", line 1324, in __del__\n",
            "Traceback (most recent call last):\n",
            "  File \"/usr/local/lib/python3.7/dist-packages/torch/utils/data/dataloader.py\", line 1324, in __del__\n",
            "    self._shutdown_workers()\n",
            "    self._shutdown_workers()\n",
            "  File \"/usr/local/lib/python3.7/dist-packages/torch/utils/data/dataloader.py\", line 1316, in _shutdown_workers\n",
            "    if w.is_alive():\n",
            "  File \"/usr/local/lib/python3.7/dist-packages/torch/utils/data/dataloader.py\", line 1316, in _shutdown_workers\n",
            "  File \"/usr/lib/python3.7/multiprocessing/process.py\", line 151, in is_alive\n",
            "    assert self._parent_pid == os.getpid(), 'can only test a child process'\n",
            "AssertionError: can only test a child process\n",
            "    if w.is_alive():\n",
            "  File \"/usr/lib/python3.7/multiprocessing/process.py\", line 151, in is_alive\n",
            "Exception ignored in: <function _MultiProcessingDataLoaderIter.__del__ at 0x7fe263477b00>\n",
            "Traceback (most recent call last):\n",
            "    assert self._parent_pid == os.getpid(), 'can only test a child process'\n",
            "  File \"/usr/local/lib/python3.7/dist-packages/torch/utils/data/dataloader.py\", line 1324, in __del__\n",
            "    self._shutdown_workers()\n",
            "  File \"/usr/local/lib/python3.7/dist-packages/torch/utils/data/dataloader.py\", line 1316, in _shutdown_workers\n",
            "AssertionError: can only test a child process\n",
            "    if w.is_alive():\n",
            "Exception ignored in: <function _MultiProcessingDataLoaderIter.__del__ at 0x7fe263477b00>\n",
            "Traceback (most recent call last):\n",
            "  File \"/usr/lib/python3.7/multiprocessing/process.py\", line 151, in is_alive\n",
            "    assert self._parent_pid == os.getpid(), 'can only test a child process'\n",
            "  File \"/usr/local/lib/python3.7/dist-packages/torch/utils/data/dataloader.py\", line 1324, in __del__\n",
            "AssertionError: can only test a child process\n",
            "    self._shutdown_workers()\n",
            "  File \"/usr/local/lib/python3.7/dist-packages/torch/utils/data/dataloader.py\", line 1316, in _shutdown_workers\n",
            "Exception ignored in: <function _MultiProcessingDataLoaderIter.__del__ at 0x7fe263477b00>\n",
            "    if w.is_alive():\n",
            "Traceback (most recent call last):\n",
            "  File \"/usr/lib/python3.7/multiprocessing/process.py\", line 151, in is_alive\n",
            "  File \"/usr/local/lib/python3.7/dist-packages/torch/utils/data/dataloader.py\", line 1324, in __del__\n",
            "    assert self._parent_pid == os.getpid(), 'can only test a child process'\n",
            "AssertionError: can only test a child process\n",
            "    self._shutdown_workers()\n",
            "  File \"/usr/local/lib/python3.7/dist-packages/torch/utils/data/dataloader.py\", line 1316, in _shutdown_workers\n",
            "    if w.is_alive():\n",
            "  File \"/usr/lib/python3.7/multiprocessing/process.py\", line 151, in is_alive\n",
            "    assert self._parent_pid == os.getpid(), 'can only test a child process'\n",
            "AssertionError: can only test a child process\n",
            "Exception ignored in: <function _MultiProcessingDataLoaderIter.__del__ at 0x7fe263477b00>\n",
            "Traceback (most recent call last):\n",
            "  File \"/usr/local/lib/python3.7/dist-packages/torch/utils/data/dataloader.py\", line 1324, in __del__\n",
            "    self._shutdown_workers()\n",
            "  File \"/usr/local/lib/python3.7/dist-packages/torch/utils/data/dataloader.py\", line 1316, in _shutdown_workers\n",
            "    if w.is_alive():\n",
            "  File \"/usr/lib/python3.7/multiprocessing/process.py\", line 151, in is_alive\n",
            "    assert self._parent_pid == os.getpid(), 'can only test a child process'\n",
            "AssertionError: can only test a child process\n",
            "Exception ignored in: <function _MultiProcessingDataLoaderIter.__del__ at 0x7fe263477b00>\n",
            "Traceback (most recent call last):\n",
            "  File \"/usr/local/lib/python3.7/dist-packages/torch/utils/data/dataloader.py\", line 1324, in __del__\n",
            "    self._shutdown_workers()\n",
            "  File \"/usr/local/lib/python3.7/dist-packages/torch/utils/data/dataloader.py\", line 1316, in _shutdown_workers\n",
            "    if w.is_alive():\n",
            "  File \"/usr/lib/python3.7/multiprocessing/process.py\", line 151, in is_alive\n",
            "    assert self._parent_pid == os.getpid(), 'can only test a child process'\n",
            "AssertionError: can only test a child process\n",
            "Exception ignored in: <function _MultiProcessingDataLoaderIter.__del__ at 0x7fe263477b00>\n",
            "Traceback (most recent call last):\n",
            "  File \"/usr/local/lib/python3.7/dist-packages/torch/utils/data/dataloader.py\", line 1324, in __del__\n",
            "    self._shutdown_workers()\n",
            "  File \"/usr/local/lib/python3.7/dist-packages/torch/utils/data/dataloader.py\", line 1316, in _shutdown_workers\n",
            "    if w.is_alive():\n",
            "  File \"/usr/lib/python3.7/multiprocessing/process.py\", line 151, in is_alive\n",
            "    assert self._parent_pid == os.getpid(), 'can only test a child process'\n",
            "AssertionError: can only test a child process\n"
          ],
          "name": "stderr"
        },
        {
          "output_type": "stream",
          "text": [
            "Epoch [49] Mean loss on train: 0.7433249834143085 Mean accuracy on train: 0.8518 Mean F1 score on train: 0.8513 Learning Rate: 1e-05\n",
            "Start Validation ...\n",
            "Epoch [49] Threshold: 0.5 Mean Validation Accuracy: 0.8862 Mean Validation F1 score: 0.8848\n",
            "[2.3920029465063117, 1.7836857312991294, 1.44685169811602, 1.2431622909910884, 1.1216110807878, 1.0426779721254185, 0.988605436940252, 0.9404140664471521, 0.9238933306417347, 0.9024430938708929, 0.8808783478207058, 0.8694049936753733, 0.8492649917985187, 0.8450909497561279, 0.8346277952930073, 0.8171832080240603, 0.8139976304254414, 0.8063645832332564, 0.8108513250027174, 0.7983666024090331, 0.7989620784182607, 0.782177014189002, 0.7905173749099543, 0.7839326740782938, 0.7813010351157482, 0.7790834061157557, 0.7721927937166191, 0.7721179986441576, 0.7729941295252906, 0.7725381088845524, 0.768959402596509, 0.7678896404342886, 0.7658771148434391, 0.7609194639288349, 0.7591991890359808, 0.7615755685317663, 0.7558310415273831, 0.7420855000431155, 0.755036520148501, 0.7503746336624946, 0.7452728587168235, 0.7466750894063785, 0.7379190561947999, 0.7459237462208594, 0.7432136350943719, 0.7441662695672777, 0.7452419037436262, 0.7445129125942419, 0.7394972417825534, 0.7433249834143085]\n",
            "[tensor(0.5545, device='cuda:0', dtype=torch.float64), tensor(0.7212, device='cuda:0', dtype=torch.float64), tensor(0.7509, device='cuda:0', dtype=torch.float64), tensor(0.7692, device='cuda:0', dtype=torch.float64), tensor(0.7702, device='cuda:0', dtype=torch.float64), tensor(0.7772, device='cuda:0', dtype=torch.float64), tensor(0.7840, device='cuda:0', dtype=torch.float64), tensor(0.7960, device='cuda:0', dtype=torch.float64), tensor(0.7900, device='cuda:0', dtype=torch.float64), tensor(0.7933, device='cuda:0', dtype=torch.float64), tensor(0.7997, device='cuda:0', dtype=torch.float64), tensor(0.7941, device='cuda:0', dtype=torch.float64), tensor(0.8139, device='cuda:0', dtype=torch.float64), tensor(0.8106, device='cuda:0', dtype=torch.float64), tensor(0.8149, device='cuda:0', dtype=torch.float64), tensor(0.8271, device='cuda:0', dtype=torch.float64), tensor(0.8254, device='cuda:0', dtype=torch.float64), tensor(0.8289, device='cuda:0', dtype=torch.float64), tensor(0.8238, device='cuda:0', dtype=torch.float64), tensor(0.8343, device='cuda:0', dtype=torch.float64), tensor(0.8275, device='cuda:0', dtype=torch.float64), tensor(0.8417, device='cuda:0', dtype=torch.float64), tensor(0.8281, device='cuda:0', dtype=torch.float64), tensor(0.8373, device='cuda:0', dtype=torch.float64), tensor(0.8390, device='cuda:0', dtype=torch.float64), tensor(0.8336, device='cuda:0', dtype=torch.float64), tensor(0.8411, device='cuda:0', dtype=torch.float64), tensor(0.8392, device='cuda:0', dtype=torch.float64), tensor(0.8361, device='cuda:0', dtype=torch.float64), tensor(0.8359, device='cuda:0', dtype=torch.float64), tensor(0.8404, device='cuda:0', dtype=torch.float64), tensor(0.8417, device='cuda:0', dtype=torch.float64), tensor(0.8394, device='cuda:0', dtype=torch.float64), tensor(0.8470, device='cuda:0', dtype=torch.float64), tensor(0.8441, device='cuda:0', dtype=torch.float64), tensor(0.8419, device='cuda:0', dtype=torch.float64), tensor(0.8489, device='cuda:0', dtype=torch.float64), tensor(0.8660, device='cuda:0', dtype=torch.float64), tensor(0.8433, device='cuda:0', dtype=torch.float64), tensor(0.8483, device='cuda:0', dtype=torch.float64), tensor(0.8555, device='cuda:0', dtype=torch.float64), tensor(0.8493, device='cuda:0', dtype=torch.float64), tensor(0.8606, device='cuda:0', dtype=torch.float64), tensor(0.8546, device='cuda:0', dtype=torch.float64), tensor(0.8546, device='cuda:0', dtype=torch.float64), tensor(0.8513, device='cuda:0', dtype=torch.float64), tensor(0.8478, device='cuda:0', dtype=torch.float64), tensor(0.8503, device='cuda:0', dtype=torch.float64), tensor(0.8538, device='cuda:0', dtype=torch.float64), tensor(0.8518, device='cuda:0', dtype=torch.float64)]\n",
            "[0.5443399004487174, 0.7199946199072461, 0.7500558294575385, 0.7684675906985644, 0.7696107984191847, 0.7766608916011698, 0.7831936530707772, 0.7951149897593911, 0.7893017575744808, 0.7923932146954774, 0.7987173782933167, 0.7932319205068188, 0.813371578449738, 0.80951405655409, 0.8138867595851037, 0.8264303631038321, 0.8242359899537881, 0.8282010168308743, 0.8229236072819875, 0.8336720657858364, 0.8267368031400334, 0.8408446646690003, 0.8272408577864047, 0.8364057825510773, 0.8384291878507814, 0.8329837649037469, 0.8404674398273718, 0.838496720257217, 0.8354272783966854, 0.8350459037921323, 0.8397307809355771, 0.8405960479080535, 0.8384924195407976, 0.8464144833261892, 0.8434664166585494, 0.8410848552179689, 0.8483017744385591, 0.8653135127534318, 0.8425300542902586, 0.8471620840094541, 0.8545077698585101, 0.8487904938723432, 0.8598302396487242, 0.8541894417596346, 0.854112660259084, 0.8506415520146206, 0.8471483650908559, 0.8496764413999908, 0.8531210908630151, 0.8512726367259384]\n",
            "[tensor(0.7594, device='cuda:0', dtype=torch.float64), tensor(0.8098, device='cuda:0', dtype=torch.float64), tensor(0.8689, device='cuda:0', dtype=torch.float64), tensor(0.8732, device='cuda:0', dtype=torch.float64), tensor(0.8862, device='cuda:0', dtype=torch.float64), tensor(0.8948, device='cuda:0', dtype=torch.float64), tensor(0.8386, device='cuda:0', dtype=torch.float64), tensor(0.8573, device='cuda:0', dtype=torch.float64), tensor(0.8876, device='cuda:0', dtype=torch.float64), tensor(0.8588, device='cuda:0', dtype=torch.float64), tensor(0.8862, device='cuda:0', dtype=torch.float64), tensor(0.8660, device='cuda:0', dtype=torch.float64), tensor(0.8588, device='cuda:0', dtype=torch.float64), tensor(0.8919, device='cuda:0', dtype=torch.float64), tensor(0.8631, device='cuda:0', dtype=torch.float64), tensor(0.8905, device='cuda:0', dtype=torch.float64), tensor(0.8833, device='cuda:0', dtype=torch.float64), tensor(0.8890, device='cuda:0', dtype=torch.float64), tensor(0.8790, device='cuda:0', dtype=torch.float64), tensor(0.9049, device='cuda:0', dtype=torch.float64), tensor(0.8602, device='cuda:0', dtype=torch.float64), tensor(0.8862, device='cuda:0', dtype=torch.float64), tensor(0.8689, device='cuda:0', dtype=torch.float64), tensor(0.8761, device='cuda:0', dtype=torch.float64), tensor(0.8545, device='cuda:0', dtype=torch.float64), tensor(0.8804, device='cuda:0', dtype=torch.float64), tensor(0.8674, device='cuda:0', dtype=torch.float64), tensor(0.8746, device='cuda:0', dtype=torch.float64), tensor(0.9020, device='cuda:0', dtype=torch.float64), tensor(0.8847, device='cuda:0', dtype=torch.float64), tensor(0.9020, device='cuda:0', dtype=torch.float64), tensor(0.8963, device='cuda:0', dtype=torch.float64), tensor(0.8934, device='cuda:0', dtype=torch.float64), tensor(0.8977, device='cuda:0', dtype=torch.float64), tensor(0.9092, device='cuda:0', dtype=torch.float64), tensor(0.8919, device='cuda:0', dtype=torch.float64), tensor(0.8963, device='cuda:0', dtype=torch.float64), tensor(0.9006, device='cuda:0', dtype=torch.float64), tensor(0.8790, device='cuda:0', dtype=torch.float64), tensor(0.9049, device='cuda:0', dtype=torch.float64), tensor(0.8732, device='cuda:0', dtype=torch.float64), tensor(0.8775, device='cuda:0', dtype=torch.float64), tensor(0.8847, device='cuda:0', dtype=torch.float64), tensor(0.8746, device='cuda:0', dtype=torch.float64), tensor(0.9222, device='cuda:0', dtype=torch.float64), tensor(0.9020, device='cuda:0', dtype=torch.float64), tensor(0.8862, device='cuda:0', dtype=torch.float64), tensor(0.8847, device='cuda:0', dtype=torch.float64), tensor(0.8559, device='cuda:0', dtype=torch.float64), tensor(0.8862, device='cuda:0', dtype=torch.float64)]\n",
            "[0.7585981100188564, 0.8095984997984429, 0.8686668284431502, 0.8723669488670298, 0.885732236558496, 0.8942142914000311, 0.8362048099431735, 0.8571092182410127, 0.8867877253366038, 0.8576718730600331, 0.8857280372699989, 0.8647161865265472, 0.856173142255941, 0.891396988178506, 0.861874930297458, 0.8892737823152865, 0.8827515267206928, 0.8883973784434255, 0.8783211204096433, 0.9046462961191982, 0.8590167968322345, 0.8852543797271964, 0.8681723957806692, 0.8760736002527046, 0.8530189853719264, 0.8782324862833337, 0.8659966948054848, 0.8748105878381036, 0.9011018481322886, 0.8838990112622377, 0.9016087616290962, 0.8952084740186658, 0.8929102485922504, 0.8975737632872948, 0.9080230432503117, 0.8905784805282946, 0.8958722934035285, 0.900307119824618, 0.8773606124235324, 0.9043299903996882, 0.8703384571700572, 0.8759972926844634, 0.8847824850136803, 0.8748530798933424, 0.9215406346348799, 0.9012647280245033, 0.8860453136336875, 0.8847666311294393, 0.8547202155963637, 0.8847788861546254]\n",
            "[1e-05, 1e-05, 1e-05, 1e-05, 1e-05, 1e-05, 1e-05, 1e-05, 1e-05, 1e-05, 1e-05, 1e-05, 1e-05, 1e-05, 1e-05, 1e-05, 1e-05, 1e-05, 1e-05, 1e-05, 1e-05, 1e-05, 1e-05, 1e-05, 1e-05, 1e-05, 1e-05, 1e-05, 1e-05, 1e-05, 1e-05, 1e-05, 1e-05, 1e-05, 1e-05, 1e-05, 1e-05, 1e-05, 1e-05, 1e-05, 1e-05, 1e-05, 1e-05, 1e-05, 1e-05, 1e-05, 1e-05, 1e-05, 1e-05, 1e-05]\n"
          ],
          "name": "stdout"
        }
      ]
    },
    {
      "cell_type": "code",
      "metadata": {
        "colab": {
          "base_uri": "https://localhost:8080/"
        },
        "id": "jZRGjLrKgu3d",
        "outputId": "9ec454ed-1ec9-4679-80d6-917f3c362b03"
      },
      "source": [
        "# for param in model.parameters():\n",
        "#     param.requires_grad = False\n",
        "    \n",
        "# params = [p for p in model.parameters() if p.requires_grad]\n",
        "\n",
        "# num_epochs = 50\n",
        "# optimizer = optim.Adam(params, lr=1e-5, weight_decay=0.1)\n",
        "# lr_scheduler = torch.optim.lr_scheduler.StepLR(optimizer, step_size=100, gamma=0.9)\n",
        "# criterion = nn.CrossEntropyLoss()\n",
        "\n",
        "# loss_history = []\n",
        "# train_acc_history = []\n",
        "# train_f1_history = []\n",
        "# val_acc_history = []\n",
        "# val_f1_history = []\n",
        "# lr_history = []\n",
        "\n",
        "for epoch in range(50, 100):\n",
        "\n",
        "        loss, train_acc, train_f1, lr = train_one_epoch(model, optimizer, lr_scheduler, \n",
        "                                             f1_score, train_dataloader, epoch, criterion)\n",
        "    \n",
        "        val_acc, val_f1 = val_epoch(model, f1_score, val_dataloader, epoch)\n",
        "        \n",
        "        \n",
        "        # train history\n",
        "        loss_history.append(loss)\n",
        "        train_acc_history.append(train_acc)\n",
        "        train_f1_history.append(train_f1)\n",
        "        lr_history.append(lr)\n",
        "        val_acc_history.append(val_acc)\n",
        "        val_f1_history.append(val_f1)\n",
        "\n",
        "        # save best weights\n",
        "        best_acc = max(val_acc_history)\n",
        "        if val_acc >= best_acc:\n",
        "            torch.save({'last_state_dict': model.state_dict()},\n",
        "                        os.path.join(BASE_PATH + 'weights_seg_patch_2/', f\"{val_acc:0.6f}_.pth\"))\n",
        "            \n",
        "print(loss_history)\n",
        "print(train_acc_history)\n",
        "print(train_f1_history)\n",
        "print(val_acc_history)\n",
        "print(val_f1_history)\n",
        "print(lr_history)"
      ],
      "execution_count": null,
      "outputs": [
        {
          "output_type": "stream",
          "text": [
            "Start Train ...\n",
            "Epoch [50] Mean loss on train: 0.7396413996631717 Mean accuracy on train: 0.8567 Mean F1 score on train: 0.8560 Learning Rate: 1e-05\n",
            "Start Validation ...\n",
            "Epoch [50] Threshold: 0.5 Mean Validation Accuracy: 0.9020 Mean Validation F1 score: 0.9013\n",
            "Start Train ...\n",
            "Epoch [51] Mean loss on train: 0.7348870871979514 Mean accuracy on train: 0.8627 Mean F1 score on train: 0.8622 Learning Rate: 1e-05\n",
            "Start Validation ...\n",
            "Epoch [51] Threshold: 0.5 Mean Validation Accuracy: 0.9150 Mean Validation F1 score: 0.9147\n",
            "Start Train ...\n",
            "Epoch [52] Mean loss on train: 0.7352394538897055 Mean accuracy on train: 0.8575 Mean F1 score on train: 0.8570 Learning Rate: 1e-05\n",
            "Start Validation ...\n",
            "Epoch [52] Threshold: 0.5 Mean Validation Accuracy: 0.8905 Mean Validation F1 score: 0.8903\n",
            "Start Train ...\n",
            "Epoch [53] Mean loss on train: 0.7338532505212007 Mean accuracy on train: 0.8594 Mean F1 score on train: 0.8588 Learning Rate: 1e-05\n",
            "Start Validation ...\n",
            "Epoch [53] Threshold: 0.5 Mean Validation Accuracy: 0.9063 Mean Validation F1 score: 0.9060\n",
            "Start Train ...\n",
            "Epoch [54] Mean loss on train: 0.7404279240855465 Mean accuracy on train: 0.8530 Mean F1 score on train: 0.8521 Learning Rate: 1e-05\n",
            "Start Validation ...\n",
            "Epoch [54] Threshold: 0.5 Mean Validation Accuracy: 0.8948 Mean Validation F1 score: 0.8947\n",
            "Start Train ...\n",
            "Epoch [55] Mean loss on train: 0.7368046137285821 Mean accuracy on train: 0.8569 Mean F1 score on train: 0.8565 Learning Rate: 1e-05\n",
            "Start Validation ...\n",
            "Epoch [55] Threshold: 0.5 Mean Validation Accuracy: 0.8905 Mean Validation F1 score: 0.8898\n",
            "Start Train ...\n",
            "Epoch [56] Mean loss on train: 0.7357464144259324 Mean accuracy on train: 0.8526 Mean F1 score on train: 0.8521 Learning Rate: 1e-05\n",
            "Start Validation ...\n",
            "Epoch [56] Threshold: 0.5 Mean Validation Accuracy: 0.8890 Mean Validation F1 score: 0.8883\n",
            "Start Train ...\n",
            "Epoch [57] Mean loss on train: 0.7307288070519765 Mean accuracy on train: 0.8608 Mean F1 score on train: 0.8603 Learning Rate: 1e-05\n",
            "Start Validation ...\n",
            "Epoch [57] Threshold: 0.5 Mean Validation Accuracy: 0.9049 Mean Validation F1 score: 0.9041\n",
            "Start Train ...\n",
            "Epoch [58] Mean loss on train: 0.7313218299989347 Mean accuracy on train: 0.8614 Mean F1 score on train: 0.8608 Learning Rate: 1e-05\n",
            "Start Validation ...\n",
            "Epoch [58] Threshold: 0.5 Mean Validation Accuracy: 0.8948 Mean Validation F1 score: 0.8943\n",
            "Start Train ...\n",
            "Epoch [59] Mean loss on train: 0.7344626545170208 Mean accuracy on train: 0.8577 Mean F1 score on train: 0.8572 Learning Rate: 1e-05\n",
            "Start Validation ...\n",
            "Epoch [59] Threshold: 0.5 Mean Validation Accuracy: 0.8660 Mean Validation F1 score: 0.8632\n",
            "Start Train ...\n",
            "Epoch [60] Mean loss on train: 0.7282225944377758 Mean accuracy on train: 0.8643 Mean F1 score on train: 0.8637 Learning Rate: 1e-05\n",
            "Start Validation ...\n",
            "Epoch [60] Threshold: 0.5 Mean Validation Accuracy: 0.8876 Mean Validation F1 score: 0.8872\n",
            "Start Train ...\n",
            "Epoch [61] Mean loss on train: 0.7331923265516022 Mean accuracy on train: 0.8579 Mean F1 score on train: 0.8574 Learning Rate: 1e-05\n",
            "Start Validation ...\n",
            "Epoch [61] Threshold: 0.5 Mean Validation Accuracy: 0.8919 Mean Validation F1 score: 0.8912\n",
            "Start Train ...\n",
            "Epoch [62] Mean loss on train: 0.7283757225230888 Mean accuracy on train: 0.8662 Mean F1 score on train: 0.8657 Learning Rate: 1e-05\n",
            "Start Validation ...\n",
            "Epoch [62] Threshold: 0.5 Mean Validation Accuracy: 0.9006 Mean Validation F1 score: 0.8999\n",
            "Start Train ...\n",
            "Epoch [63] Mean loss on train: 0.7301911039116942 Mean accuracy on train: 0.8606 Mean F1 score on train: 0.8601 Learning Rate: 1e-05\n",
            "Start Validation ...\n",
            "Epoch [63] Threshold: 0.5 Mean Validation Accuracy: 0.8804 Mean Validation F1 score: 0.8799\n",
            "Start Train ...\n",
            "Epoch [64] Mean loss on train: 0.7315008772008214 Mean accuracy on train: 0.8577 Mean F1 score on train: 0.8572 Learning Rate: 1e-05\n",
            "Start Validation ...\n",
            "Epoch [64] Threshold: 0.5 Mean Validation Accuracy: 0.8934 Mean Validation F1 score: 0.8921\n",
            "Start Train ...\n",
            "Epoch [65] Mean loss on train: 0.7338234269324644 Mean accuracy on train: 0.8575 Mean F1 score on train: 0.8569 Learning Rate: 1e-05\n",
            "Start Validation ...\n",
            "Epoch [65] Threshold: 0.5 Mean Validation Accuracy: 0.8545 Mean Validation F1 score: 0.8530\n",
            "Start Train ...\n",
            "Epoch [66] Mean loss on train: 0.7306048703046493 Mean accuracy on train: 0.8610 Mean F1 score on train: 0.8603 Learning Rate: 1e-05\n",
            "Start Validation ...\n",
            "Epoch [66] Threshold: 0.5 Mean Validation Accuracy: 0.8876 Mean Validation F1 score: 0.8876\n",
            "Start Train ...\n",
            "Epoch [67] Mean loss on train: 0.7345465545301084 Mean accuracy on train: 0.8553 Mean F1 score on train: 0.8547 Learning Rate: 1e-05\n",
            "Start Validation ...\n",
            "Epoch [67] Threshold: 0.5 Mean Validation Accuracy: 0.8573 Mean Validation F1 score: 0.8570\n",
            "Start Train ...\n",
            "Epoch [68] Mean loss on train: 0.7379279729024864 Mean accuracy on train: 0.8507 Mean F1 score on train: 0.8499 Learning Rate: 1e-05\n",
            "Start Validation ...\n",
            "Epoch [68] Threshold: 0.5 Mean Validation Accuracy: 0.8890 Mean Validation F1 score: 0.8883\n",
            "Start Train ...\n",
            "Epoch [69] Mean loss on train: 0.7303904030058119 Mean accuracy on train: 0.8610 Mean F1 score on train: 0.8605 Learning Rate: 1e-05\n",
            "Start Validation ...\n",
            "Epoch [69] Threshold: 0.5 Mean Validation Accuracy: 0.8876 Mean Validation F1 score: 0.8867\n",
            "Start Train ...\n",
            "Epoch [70] Mean loss on train: 0.72714204788208 Mean accuracy on train: 0.8635 Mean F1 score on train: 0.8629 Learning Rate: 1e-05\n",
            "Start Validation ...\n",
            "Epoch [70] Threshold: 0.5 Mean Validation Accuracy: 0.8876 Mean Validation F1 score: 0.8871\n",
            "Start Train ...\n",
            "Epoch [71] Mean loss on train: 0.7234934865692515 Mean accuracy on train: 0.8691 Mean F1 score on train: 0.8686 Learning Rate: 1e-05\n",
            "Start Validation ...\n",
            "Epoch [71] Threshold: 0.5 Mean Validation Accuracy: 0.8804 Mean Validation F1 score: 0.8783\n",
            "Start Train ...\n",
            "Epoch [72] Mean loss on train: 0.7361415927056913 Mean accuracy on train: 0.8511 Mean F1 score on train: 0.8505 Learning Rate: 1e-05\n",
            "Start Validation ...\n",
            "Epoch [72] Threshold: 0.5 Mean Validation Accuracy: 0.8746 Mean Validation F1 score: 0.8744\n",
            "Start Train ...\n",
            "Epoch [73] Mean loss on train: 0.7267491951400851 Mean accuracy on train: 0.8653 Mean F1 score on train: 0.8647 Learning Rate: 1e-05\n",
            "Start Validation ...\n",
            "Epoch [73] Threshold: 0.5 Mean Validation Accuracy: 0.8718 Mean Validation F1 score: 0.8703\n",
            "Start Train ...\n",
            "Epoch [74] Mean loss on train: 0.7296430871810442 Mean accuracy on train: 0.8614 Mean F1 score on train: 0.8607 Learning Rate: 1e-05\n",
            "Start Validation ...\n",
            "Epoch [74] Threshold: 0.5 Mean Validation Accuracy: 0.8833 Mean Validation F1 score: 0.8819\n",
            "Start Train ...\n",
            "Epoch [75] Mean loss on train: 0.7299163242181143 Mean accuracy on train: 0.8618 Mean F1 score on train: 0.8609 Learning Rate: 1e-05\n",
            "Start Validation ...\n",
            "Epoch [75] Threshold: 0.5 Mean Validation Accuracy: 0.9280 Mean Validation F1 score: 0.9270\n",
            "Start Train ...\n",
            "Epoch [76] Mean loss on train: 0.7244576656524045 Mean accuracy on train: 0.8651 Mean F1 score on train: 0.8646 Learning Rate: 1e-05\n",
            "Start Validation ...\n",
            "Epoch [76] Threshold: 0.5 Mean Validation Accuracy: 0.8905 Mean Validation F1 score: 0.8908\n",
            "Start Train ...\n",
            "Epoch [77] Mean loss on train: 0.731756184572055 Mean accuracy on train: 0.8577 Mean F1 score on train: 0.8571 Learning Rate: 1e-05\n",
            "Start Validation ...\n",
            "Epoch [77] Threshold: 0.5 Mean Validation Accuracy: 0.8963 Mean Validation F1 score: 0.8954\n",
            "Start Train ...\n",
            "Epoch [78] Mean loss on train: 0.7269379168380926 Mean accuracy on train: 0.8656 Mean F1 score on train: 0.8649 Learning Rate: 1e-05\n",
            "Start Validation ...\n",
            "Epoch [78] Threshold: 0.5 Mean Validation Accuracy: 0.8790 Mean Validation F1 score: 0.8776\n",
            "Start Train ...\n",
            "Epoch [79] Mean loss on train: 0.7257721034097083 Mean accuracy on train: 0.8614 Mean F1 score on train: 0.8607 Learning Rate: 1e-05\n",
            "Start Validation ...\n",
            "Epoch [79] Threshold: 0.5 Mean Validation Accuracy: 0.8991 Mean Validation F1 score: 0.8981\n",
            "Start Train ...\n",
            "Epoch [80] Mean loss on train: 0.7251644390600699 Mean accuracy on train: 0.8658 Mean F1 score on train: 0.8650 Learning Rate: 1e-05\n",
            "Start Validation ...\n",
            "Epoch [80] Threshold: 0.5 Mean Validation Accuracy: 0.8847 Mean Validation F1 score: 0.8839\n",
            "Start Train ...\n",
            "Epoch [81] Mean loss on train: 0.7249845576139144 Mean accuracy on train: 0.8658 Mean F1 score on train: 0.8654 Learning Rate: 1e-05\n",
            "Start Validation ...\n",
            "Epoch [81] Threshold: 0.5 Mean Validation Accuracy: 0.8573 Mean Validation F1 score: 0.8548\n",
            "Start Train ...\n",
            "Epoch [82] Mean loss on train: 0.7277680237352112 Mean accuracy on train: 0.8656 Mean F1 score on train: 0.8651 Learning Rate: 1e-05\n",
            "Start Validation ...\n",
            "Epoch [82] Threshold: 0.5 Mean Validation Accuracy: 0.8991 Mean Validation F1 score: 0.8988\n",
            "Start Train ...\n",
            "Epoch [83] Mean loss on train: 0.7264066655694702 Mean accuracy on train: 0.8629 Mean F1 score on train: 0.8621 Learning Rate: 1e-05\n",
            "Start Validation ...\n",
            "Epoch [83] Threshold: 0.5 Mean Validation Accuracy: 0.8703 Mean Validation F1 score: 0.8686\n",
            "Start Train ...\n",
            "Epoch [84] Mean loss on train: 0.7321729916849254 Mean accuracy on train: 0.8569 Mean F1 score on train: 0.8561 Learning Rate: 1e-05\n",
            "Start Validation ...\n",
            "Epoch [84] Threshold: 0.5 Mean Validation Accuracy: 0.8919 Mean Validation F1 score: 0.8908\n",
            "Start Train ...\n",
            "Epoch [85] Mean loss on train: 0.7299441165394254 Mean accuracy on train: 0.8600 Mean F1 score on train: 0.8596 Learning Rate: 1e-05\n",
            "Start Validation ...\n",
            "Epoch [85] Threshold: 0.5 Mean Validation Accuracy: 0.8775 Mean Validation F1 score: 0.8774\n",
            "Start Train ...\n",
            "Epoch [86] Mean loss on train: 0.7341824916409857 Mean accuracy on train: 0.8540 Mean F1 score on train: 0.8532 Learning Rate: 1e-05\n",
            "Start Validation ...\n",
            "Epoch [86] Threshold: 0.5 Mean Validation Accuracy: 0.8617 Mean Validation F1 score: 0.8588\n",
            "Start Train ...\n",
            "Epoch [87] Mean loss on train: 0.7283550362528106 Mean accuracy on train: 0.8627 Mean F1 score on train: 0.8621 Learning Rate: 1e-05\n",
            "Start Validation ...\n",
            "Epoch [87] Threshold: 0.5 Mean Validation Accuracy: 0.9049 Mean Validation F1 score: 0.9044\n",
            "Start Train ...\n",
            "Epoch [88] Mean loss on train: 0.7335572888821731 Mean accuracy on train: 0.8551 Mean F1 score on train: 0.8544 Learning Rate: 1e-05\n",
            "Start Validation ...\n",
            "Epoch [88] Threshold: 0.5 Mean Validation Accuracy: 0.8890 Mean Validation F1 score: 0.8878\n",
            "Start Train ...\n",
            "Epoch [89] Mean loss on train: 0.7243654006793175 Mean accuracy on train: 0.8691 Mean F1 score on train: 0.8684 Learning Rate: 1e-05\n",
            "Start Validation ...\n",
            "Epoch [89] Threshold: 0.5 Mean Validation Accuracy: 0.8919 Mean Validation F1 score: 0.8915\n",
            "Start Train ...\n",
            "Epoch [90] Mean loss on train: 0.7265543533696068 Mean accuracy on train: 0.8639 Mean F1 score on train: 0.8633 Learning Rate: 1e-05\n",
            "Start Validation ...\n",
            "Epoch [90] Threshold: 0.5 Mean Validation Accuracy: 0.8847 Mean Validation F1 score: 0.8835\n",
            "Start Train ...\n",
            "Epoch [91] Mean loss on train: 0.7259311632609662 Mean accuracy on train: 0.8645 Mean F1 score on train: 0.8639 Learning Rate: 1e-05\n",
            "Start Validation ...\n",
            "Epoch [91] Threshold: 0.5 Mean Validation Accuracy: 0.8516 Mean Validation F1 score: 0.8471\n",
            "Start Train ...\n",
            "Epoch [92] Mean loss on train: 0.7279042974666313 Mean accuracy on train: 0.8647 Mean F1 score on train: 0.8642 Learning Rate: 1e-05\n",
            "Start Validation ...\n",
            "Epoch [92] Threshold: 0.5 Mean Validation Accuracy: 0.8977 Mean Validation F1 score: 0.8971\n",
            "Start Train ...\n",
            "Epoch [93] Mean loss on train: 0.7261801295074416 Mean accuracy on train: 0.8641 Mean F1 score on train: 0.8637 Learning Rate: 1e-05\n",
            "Start Validation ...\n",
            "Epoch [93] Threshold: 0.5 Mean Validation Accuracy: 0.8127 Mean Validation F1 score: 0.8101\n",
            "Start Train ...\n",
            "Epoch [94] Mean loss on train: 0.7237769811241715 Mean accuracy on train: 0.8682 Mean F1 score on train: 0.8678 Learning Rate: 1e-05\n",
            "Start Validation ...\n",
            "Epoch [94] Threshold: 0.5 Mean Validation Accuracy: 0.8977 Mean Validation F1 score: 0.8970\n",
            "Start Train ...\n",
            "Epoch [95] Mean loss on train: 0.7281235690470095 Mean accuracy on train: 0.8618 Mean F1 score on train: 0.8614 Learning Rate: 1e-05\n",
            "Start Validation ...\n",
            "Epoch [95] Threshold: 0.5 Mean Validation Accuracy: 0.8862 Mean Validation F1 score: 0.8861\n",
            "Start Train ...\n",
            "Epoch [96] Mean loss on train: 0.7323662648230423 Mean accuracy on train: 0.8569 Mean F1 score on train: 0.8565 Learning Rate: 1e-05\n",
            "Start Validation ...\n",
            "Epoch [96] Threshold: 0.5 Mean Validation Accuracy: 0.9150 Mean Validation F1 score: 0.9142\n",
            "Start Train ...\n",
            "Epoch [97] Mean loss on train: 0.727546391295798 Mean accuracy on train: 0.8653 Mean F1 score on train: 0.8648 Learning Rate: 1e-05\n",
            "Start Validation ...\n",
            "Epoch [97] Threshold: 0.5 Mean Validation Accuracy: 0.9179 Mean Validation F1 score: 0.9174\n",
            "Start Train ...\n",
            "Epoch [98] Mean loss on train: 0.7345654624479788 Mean accuracy on train: 0.8559 Mean F1 score on train: 0.8553 Learning Rate: 1e-05\n",
            "Start Validation ...\n",
            "Epoch [98] Threshold: 0.5 Mean Validation Accuracy: 0.9049 Mean Validation F1 score: 0.9044\n",
            "Start Train ...\n",
            "Epoch [99] Mean loss on train: 0.7237760952225438 Mean accuracy on train: 0.8672 Mean F1 score on train: 0.8666 Learning Rate: 9e-06\n",
            "Start Validation ...\n",
            "Epoch [99] Threshold: 0.5 Mean Validation Accuracy: 0.9020 Mean Validation F1 score: 0.9010\n",
            "[2.3920029465063117, 1.7836857312991294, 1.44685169811602, 1.2431622909910884, 1.1216110807878, 1.0426779721254185, 0.988605436940252, 0.9404140664471521, 0.9238933306417347, 0.9024430938708929, 0.8808783478207058, 0.8694049936753733, 0.8492649917985187, 0.8450909497561279, 0.8346277952930073, 0.8171832080240603, 0.8139976304254414, 0.8063645832332564, 0.8108513250027174, 0.7983666024090331, 0.7989620784182607, 0.782177014189002, 0.7905173749099543, 0.7839326740782938, 0.7813010351157482, 0.7790834061157557, 0.7721927937166191, 0.7721179986441576, 0.7729941295252906, 0.7725381088845524, 0.768959402596509, 0.7678896404342886, 0.7658771148434391, 0.7609194639288349, 0.7591991890359808, 0.7615755685317663, 0.7558310415273831, 0.7420855000431155, 0.755036520148501, 0.7503746336624946, 0.7452728587168235, 0.7466750894063785, 0.7379190561947999, 0.7459237462208594, 0.7432136350943719, 0.7441662695672777, 0.7452419037436262, 0.7445129125942419, 0.7394972417825534, 0.7433249834143085, 0.7396413996631717, 0.7348870871979514, 0.7352394538897055, 0.7338532505212007, 0.7404279240855465, 0.7368046137285821, 0.7357464144259324, 0.7307288070519765, 0.7313218299989347, 0.7344626545170208, 0.7282225944377758, 0.7331923265516022, 0.7283757225230888, 0.7301911039116942, 0.7315008772008214, 0.7338234269324644, 0.7306048703046493, 0.7345465545301084, 0.7379279729024864, 0.7303904030058119, 0.72714204788208, 0.7234934865692515, 0.7361415927056913, 0.7267491951400851, 0.7296430871810442, 0.7299163242181143, 0.7244576656524045, 0.731756184572055, 0.7269379168380926, 0.7257721034097083, 0.7251644390600699, 0.7249845576139144, 0.7277680237352112, 0.7264066655694702, 0.7321729916849254, 0.7299441165394254, 0.7341824916409857, 0.7283550362528106, 0.7335572888821731, 0.7243654006793175, 0.7265543533696068, 0.7259311632609662, 0.7279042974666313, 0.7261801295074416, 0.7237769811241715, 0.7281235690470095, 0.7323662648230423, 0.727546391295798, 0.7345654624479788, 0.7237760952225438]\n",
            "[tensor(0.5545, device='cuda:0', dtype=torch.float64), tensor(0.7212, device='cuda:0', dtype=torch.float64), tensor(0.7509, device='cuda:0', dtype=torch.float64), tensor(0.7692, device='cuda:0', dtype=torch.float64), tensor(0.7702, device='cuda:0', dtype=torch.float64), tensor(0.7772, device='cuda:0', dtype=torch.float64), tensor(0.7840, device='cuda:0', dtype=torch.float64), tensor(0.7960, device='cuda:0', dtype=torch.float64), tensor(0.7900, device='cuda:0', dtype=torch.float64), tensor(0.7933, device='cuda:0', dtype=torch.float64), tensor(0.7997, device='cuda:0', dtype=torch.float64), tensor(0.7941, device='cuda:0', dtype=torch.float64), tensor(0.8139, device='cuda:0', dtype=torch.float64), tensor(0.8106, device='cuda:0', dtype=torch.float64), tensor(0.8149, device='cuda:0', dtype=torch.float64), tensor(0.8271, device='cuda:0', dtype=torch.float64), tensor(0.8254, device='cuda:0', dtype=torch.float64), tensor(0.8289, device='cuda:0', dtype=torch.float64), tensor(0.8238, device='cuda:0', dtype=torch.float64), tensor(0.8343, device='cuda:0', dtype=torch.float64), tensor(0.8275, device='cuda:0', dtype=torch.float64), tensor(0.8417, device='cuda:0', dtype=torch.float64), tensor(0.8281, device='cuda:0', dtype=torch.float64), tensor(0.8373, device='cuda:0', dtype=torch.float64), tensor(0.8390, device='cuda:0', dtype=torch.float64), tensor(0.8336, device='cuda:0', dtype=torch.float64), tensor(0.8411, device='cuda:0', dtype=torch.float64), tensor(0.8392, device='cuda:0', dtype=torch.float64), tensor(0.8361, device='cuda:0', dtype=torch.float64), tensor(0.8359, device='cuda:0', dtype=torch.float64), tensor(0.8404, device='cuda:0', dtype=torch.float64), tensor(0.8417, device='cuda:0', dtype=torch.float64), tensor(0.8394, device='cuda:0', dtype=torch.float64), tensor(0.8470, device='cuda:0', dtype=torch.float64), tensor(0.8441, device='cuda:0', dtype=torch.float64), tensor(0.8419, device='cuda:0', dtype=torch.float64), tensor(0.8489, device='cuda:0', dtype=torch.float64), tensor(0.8660, device='cuda:0', dtype=torch.float64), tensor(0.8433, device='cuda:0', dtype=torch.float64), tensor(0.8483, device='cuda:0', dtype=torch.float64), tensor(0.8555, device='cuda:0', dtype=torch.float64), tensor(0.8493, device='cuda:0', dtype=torch.float64), tensor(0.8606, device='cuda:0', dtype=torch.float64), tensor(0.8546, device='cuda:0', dtype=torch.float64), tensor(0.8546, device='cuda:0', dtype=torch.float64), tensor(0.8513, device='cuda:0', dtype=torch.float64), tensor(0.8478, device='cuda:0', dtype=torch.float64), tensor(0.8503, device='cuda:0', dtype=torch.float64), tensor(0.8538, device='cuda:0', dtype=torch.float64), tensor(0.8518, device='cuda:0', dtype=torch.float64), tensor(0.8567, device='cuda:0', dtype=torch.float64), tensor(0.8627, device='cuda:0', dtype=torch.float64), tensor(0.8575, device='cuda:0', dtype=torch.float64), tensor(0.8594, device='cuda:0', dtype=torch.float64), tensor(0.8530, device='cuda:0', dtype=torch.float64), tensor(0.8569, device='cuda:0', dtype=torch.float64), tensor(0.8526, device='cuda:0', dtype=torch.float64), tensor(0.8608, device='cuda:0', dtype=torch.float64), tensor(0.8614, device='cuda:0', dtype=torch.float64), tensor(0.8577, device='cuda:0', dtype=torch.float64), tensor(0.8643, device='cuda:0', dtype=torch.float64), tensor(0.8579, device='cuda:0', dtype=torch.float64), tensor(0.8662, device='cuda:0', dtype=torch.float64), tensor(0.8606, device='cuda:0', dtype=torch.float64), tensor(0.8577, device='cuda:0', dtype=torch.float64), tensor(0.8575, device='cuda:0', dtype=torch.float64), tensor(0.8610, device='cuda:0', dtype=torch.float64), tensor(0.8553, device='cuda:0', dtype=torch.float64), tensor(0.8507, device='cuda:0', dtype=torch.float64), tensor(0.8610, device='cuda:0', dtype=torch.float64), tensor(0.8635, device='cuda:0', dtype=torch.float64), tensor(0.8691, device='cuda:0', dtype=torch.float64), tensor(0.8511, device='cuda:0', dtype=torch.float64), tensor(0.8653, device='cuda:0', dtype=torch.float64), tensor(0.8614, device='cuda:0', dtype=torch.float64), tensor(0.8618, device='cuda:0', dtype=torch.float64), tensor(0.8651, device='cuda:0', dtype=torch.float64), tensor(0.8577, device='cuda:0', dtype=torch.float64), tensor(0.8656, device='cuda:0', dtype=torch.float64), tensor(0.8614, device='cuda:0', dtype=torch.float64), tensor(0.8658, device='cuda:0', dtype=torch.float64), tensor(0.8658, device='cuda:0', dtype=torch.float64), tensor(0.8656, device='cuda:0', dtype=torch.float64), tensor(0.8629, device='cuda:0', dtype=torch.float64), tensor(0.8569, device='cuda:0', dtype=torch.float64), tensor(0.8600, device='cuda:0', dtype=torch.float64), tensor(0.8540, device='cuda:0', dtype=torch.float64), tensor(0.8627, device='cuda:0', dtype=torch.float64), tensor(0.8551, device='cuda:0', dtype=torch.float64), tensor(0.8691, device='cuda:0', dtype=torch.float64), tensor(0.8639, device='cuda:0', dtype=torch.float64), tensor(0.8645, device='cuda:0', dtype=torch.float64), tensor(0.8647, device='cuda:0', dtype=torch.float64), tensor(0.8641, device='cuda:0', dtype=torch.float64), tensor(0.8682, device='cuda:0', dtype=torch.float64), tensor(0.8618, device='cuda:0', dtype=torch.float64), tensor(0.8569, device='cuda:0', dtype=torch.float64), tensor(0.8653, device='cuda:0', dtype=torch.float64), tensor(0.8559, device='cuda:0', dtype=torch.float64), tensor(0.8672, device='cuda:0', dtype=torch.float64)]\n",
            "[0.5443399004487174, 0.7199946199072461, 0.7500558294575385, 0.7684675906985644, 0.7696107984191847, 0.7766608916011698, 0.7831936530707772, 0.7951149897593911, 0.7893017575744808, 0.7923932146954774, 0.7987173782933167, 0.7932319205068188, 0.813371578449738, 0.80951405655409, 0.8138867595851037, 0.8264303631038321, 0.8242359899537881, 0.8282010168308743, 0.8229236072819875, 0.8336720657858364, 0.8267368031400334, 0.8408446646690003, 0.8272408577864047, 0.8364057825510773, 0.8384291878507814, 0.8329837649037469, 0.8404674398273718, 0.838496720257217, 0.8354272783966854, 0.8350459037921323, 0.8397307809355771, 0.8405960479080535, 0.8384924195407976, 0.8464144833261892, 0.8434664166585494, 0.8410848552179689, 0.8483017744385591, 0.8653135127534318, 0.8425300542902586, 0.8471620840094541, 0.8545077698585101, 0.8487904938723432, 0.8598302396487242, 0.8541894417596346, 0.854112660259084, 0.8506415520146206, 0.8471483650908559, 0.8496764413999908, 0.8531210908630151, 0.8512726367259384, 0.8560080923747909, 0.862184728997727, 0.8569966742846072, 0.8587773334125428, 0.8521343607178985, 0.8564564327194738, 0.8520585102567023, 0.8603025328642473, 0.8608457317702348, 0.8571982415302885, 0.8636686274462285, 0.8573668724621166, 0.8657455028622127, 0.8600693395800351, 0.8572051487930047, 0.8568719490823535, 0.8603286492470298, 0.8547424777226098, 0.8498888358303267, 0.8604516482251604, 0.8629184217094666, 0.8685558672530798, 0.8505029117515437, 0.8646632590651812, 0.8607278826965121, 0.8609005041605929, 0.8645666934268409, 0.8571138957629731, 0.8649127427686584, 0.8607413103917576, 0.8650230812620586, 0.865356500209384, 0.8651339329461635, 0.8621035326773288, 0.8561454610566407, 0.8596246221644351, 0.8531876225541426, 0.8620732014909699, 0.8543731692730053, 0.8683922237256247, 0.8632838822681008, 0.8639211590840091, 0.864151287937922, 0.8636660356020222, 0.8677846583857094, 0.8614362280270197, 0.856494125605732, 0.8647872100797754, 0.8552825851231978, 0.8665796689135666]\n",
            "[tensor(0.7594, device='cuda:0', dtype=torch.float64), tensor(0.8098, device='cuda:0', dtype=torch.float64), tensor(0.8689, device='cuda:0', dtype=torch.float64), tensor(0.8732, device='cuda:0', dtype=torch.float64), tensor(0.8862, device='cuda:0', dtype=torch.float64), tensor(0.8948, device='cuda:0', dtype=torch.float64), tensor(0.8386, device='cuda:0', dtype=torch.float64), tensor(0.8573, device='cuda:0', dtype=torch.float64), tensor(0.8876, device='cuda:0', dtype=torch.float64), tensor(0.8588, device='cuda:0', dtype=torch.float64), tensor(0.8862, device='cuda:0', dtype=torch.float64), tensor(0.8660, device='cuda:0', dtype=torch.float64), tensor(0.8588, device='cuda:0', dtype=torch.float64), tensor(0.8919, device='cuda:0', dtype=torch.float64), tensor(0.8631, device='cuda:0', dtype=torch.float64), tensor(0.8905, device='cuda:0', dtype=torch.float64), tensor(0.8833, device='cuda:0', dtype=torch.float64), tensor(0.8890, device='cuda:0', dtype=torch.float64), tensor(0.8790, device='cuda:0', dtype=torch.float64), tensor(0.9049, device='cuda:0', dtype=torch.float64), tensor(0.8602, device='cuda:0', dtype=torch.float64), tensor(0.8862, device='cuda:0', dtype=torch.float64), tensor(0.8689, device='cuda:0', dtype=torch.float64), tensor(0.8761, device='cuda:0', dtype=torch.float64), tensor(0.8545, device='cuda:0', dtype=torch.float64), tensor(0.8804, device='cuda:0', dtype=torch.float64), tensor(0.8674, device='cuda:0', dtype=torch.float64), tensor(0.8746, device='cuda:0', dtype=torch.float64), tensor(0.9020, device='cuda:0', dtype=torch.float64), tensor(0.8847, device='cuda:0', dtype=torch.float64), tensor(0.9020, device='cuda:0', dtype=torch.float64), tensor(0.8963, device='cuda:0', dtype=torch.float64), tensor(0.8934, device='cuda:0', dtype=torch.float64), tensor(0.8977, device='cuda:0', dtype=torch.float64), tensor(0.9092, device='cuda:0', dtype=torch.float64), tensor(0.8919, device='cuda:0', dtype=torch.float64), tensor(0.8963, device='cuda:0', dtype=torch.float64), tensor(0.9006, device='cuda:0', dtype=torch.float64), tensor(0.8790, device='cuda:0', dtype=torch.float64), tensor(0.9049, device='cuda:0', dtype=torch.float64), tensor(0.8732, device='cuda:0', dtype=torch.float64), tensor(0.8775, device='cuda:0', dtype=torch.float64), tensor(0.8847, device='cuda:0', dtype=torch.float64), tensor(0.8746, device='cuda:0', dtype=torch.float64), tensor(0.9222, device='cuda:0', dtype=torch.float64), tensor(0.9020, device='cuda:0', dtype=torch.float64), tensor(0.8862, device='cuda:0', dtype=torch.float64), tensor(0.8847, device='cuda:0', dtype=torch.float64), tensor(0.8559, device='cuda:0', dtype=torch.float64), tensor(0.8862, device='cuda:0', dtype=torch.float64), tensor(0.9020, device='cuda:0', dtype=torch.float64), tensor(0.9150, device='cuda:0', dtype=torch.float64), tensor(0.8905, device='cuda:0', dtype=torch.float64), tensor(0.9063, device='cuda:0', dtype=torch.float64), tensor(0.8948, device='cuda:0', dtype=torch.float64), tensor(0.8905, device='cuda:0', dtype=torch.float64), tensor(0.8890, device='cuda:0', dtype=torch.float64), tensor(0.9049, device='cuda:0', dtype=torch.float64), tensor(0.8948, device='cuda:0', dtype=torch.float64), tensor(0.8660, device='cuda:0', dtype=torch.float64), tensor(0.8876, device='cuda:0', dtype=torch.float64), tensor(0.8919, device='cuda:0', dtype=torch.float64), tensor(0.9006, device='cuda:0', dtype=torch.float64), tensor(0.8804, device='cuda:0', dtype=torch.float64), tensor(0.8934, device='cuda:0', dtype=torch.float64), tensor(0.8545, device='cuda:0', dtype=torch.float64), tensor(0.8876, device='cuda:0', dtype=torch.float64), tensor(0.8573, device='cuda:0', dtype=torch.float64), tensor(0.8890, device='cuda:0', dtype=torch.float64), tensor(0.8876, device='cuda:0', dtype=torch.float64), tensor(0.8876, device='cuda:0', dtype=torch.float64), tensor(0.8804, device='cuda:0', dtype=torch.float64), tensor(0.8746, device='cuda:0', dtype=torch.float64), tensor(0.8718, device='cuda:0', dtype=torch.float64), tensor(0.8833, device='cuda:0', dtype=torch.float64), tensor(0.9280, device='cuda:0', dtype=torch.float64), tensor(0.8905, device='cuda:0', dtype=torch.float64), tensor(0.8963, device='cuda:0', dtype=torch.float64), tensor(0.8790, device='cuda:0', dtype=torch.float64), tensor(0.8991, device='cuda:0', dtype=torch.float64), tensor(0.8847, device='cuda:0', dtype=torch.float64), tensor(0.8573, device='cuda:0', dtype=torch.float64), tensor(0.8991, device='cuda:0', dtype=torch.float64), tensor(0.8703, device='cuda:0', dtype=torch.float64), tensor(0.8919, device='cuda:0', dtype=torch.float64), tensor(0.8775, device='cuda:0', dtype=torch.float64), tensor(0.8617, device='cuda:0', dtype=torch.float64), tensor(0.9049, device='cuda:0', dtype=torch.float64), tensor(0.8890, device='cuda:0', dtype=torch.float64), tensor(0.8919, device='cuda:0', dtype=torch.float64), tensor(0.8847, device='cuda:0', dtype=torch.float64), tensor(0.8516, device='cuda:0', dtype=torch.float64), tensor(0.8977, device='cuda:0', dtype=torch.float64), tensor(0.8127, device='cuda:0', dtype=torch.float64), tensor(0.8977, device='cuda:0', dtype=torch.float64), tensor(0.8862, device='cuda:0', dtype=torch.float64), tensor(0.9150, device='cuda:0', dtype=torch.float64), tensor(0.9179, device='cuda:0', dtype=torch.float64), tensor(0.9049, device='cuda:0', dtype=torch.float64), tensor(0.9020, device='cuda:0', dtype=torch.float64)]\n",
            "[0.7585981100188564, 0.8095984997984429, 0.8686668284431502, 0.8723669488670298, 0.885732236558496, 0.8942142914000311, 0.8362048099431735, 0.8571092182410127, 0.8867877253366038, 0.8576718730600331, 0.8857280372699989, 0.8647161865265472, 0.856173142255941, 0.891396988178506, 0.861874930297458, 0.8892737823152865, 0.8827515267206928, 0.8883973784434255, 0.8783211204096433, 0.9046462961191982, 0.8590167968322345, 0.8852543797271964, 0.8681723957806692, 0.8760736002527046, 0.8530189853719264, 0.8782324862833337, 0.8659966948054848, 0.8748105878381036, 0.9011018481322886, 0.8838990112622377, 0.9016087616290962, 0.8952084740186658, 0.8929102485922504, 0.8975737632872948, 0.9080230432503117, 0.8905784805282946, 0.8958722934035285, 0.900307119824618, 0.8773606124235324, 0.9043299903996882, 0.8703384571700572, 0.8759972926844634, 0.8847824850136803, 0.8748530798933424, 0.9215406346348799, 0.9012647280245033, 0.8860453136336875, 0.8847666311294393, 0.8547202155963637, 0.8847788861546254, 0.901328212643524, 0.9147345535548461, 0.8902830481923631, 0.9059502938073548, 0.8946933693123388, 0.8897966048013307, 0.8883338212503578, 0.9040845004836003, 0.8943476059597858, 0.8632173197372383, 0.8871764724143016, 0.8911666876240115, 0.8999163536005641, 0.8799235124883618, 0.8921314869962834, 0.8530369858091111, 0.8876328101387768, 0.8569702169270436, 0.8882503404673884, 0.8867293355853688, 0.8871165989281474, 0.878340482114067, 0.8743757485046967, 0.8702785022088707, 0.8819230300918287, 0.9269699794261199, 0.8908460124500083, 0.8953772444904337, 0.8775825164149532, 0.8981402674403659, 0.8839394683990034, 0.8547663105848932, 0.8988471695276603, 0.868564940657964, 0.8908148624888335, 0.8773998066194073, 0.8588185869083746, 0.904362103969005, 0.8878014830900134, 0.8915164356340827, 0.8834784877974245, 0.8470680849000242, 0.8970868178351408, 0.810073442902692, 0.8969930186902862, 0.8861268742651304, 0.9141960738945328, 0.9174392052822685, 0.9044440833604567, 0.9010274828347621]\n",
            "[1e-05, 1e-05, 1e-05, 1e-05, 1e-05, 1e-05, 1e-05, 1e-05, 1e-05, 1e-05, 1e-05, 1e-05, 1e-05, 1e-05, 1e-05, 1e-05, 1e-05, 1e-05, 1e-05, 1e-05, 1e-05, 1e-05, 1e-05, 1e-05, 1e-05, 1e-05, 1e-05, 1e-05, 1e-05, 1e-05, 1e-05, 1e-05, 1e-05, 1e-05, 1e-05, 1e-05, 1e-05, 1e-05, 1e-05, 1e-05, 1e-05, 1e-05, 1e-05, 1e-05, 1e-05, 1e-05, 1e-05, 1e-05, 1e-05, 1e-05, 1e-05, 1e-05, 1e-05, 1e-05, 1e-05, 1e-05, 1e-05, 1e-05, 1e-05, 1e-05, 1e-05, 1e-05, 1e-05, 1e-05, 1e-05, 1e-05, 1e-05, 1e-05, 1e-05, 1e-05, 1e-05, 1e-05, 1e-05, 1e-05, 1e-05, 1e-05, 1e-05, 1e-05, 1e-05, 1e-05, 1e-05, 1e-05, 1e-05, 1e-05, 1e-05, 1e-05, 1e-05, 1e-05, 1e-05, 1e-05, 1e-05, 1e-05, 1e-05, 1e-05, 1e-05, 1e-05, 1e-05, 1e-05, 1e-05, 9e-06]\n"
          ],
          "name": "stdout"
        }
      ]
    },
    {
      "cell_type": "code",
      "metadata": {
        "id": "PH6LXvFqgu18"
      },
      "source": [
        ""
      ],
      "execution_count": null,
      "outputs": []
    },
    {
      "cell_type": "markdown",
      "metadata": {
        "id": "8Tjg38Fft5zG"
      },
      "source": [
        "### EVALUATING"
      ]
    },
    {
      "cell_type": "code",
      "metadata": {
        "id": "JyhmeOJL3FFk"
      },
      "source": [
        "from sklearn.metrics import confusion_matrix\n",
        "from sklearn.metrics import classification_report\n",
        "from sklearn.metrics import accuracy_score\n",
        "from sklearn.metrics import f1_score\n",
        "from sklearn.metrics import precision_score\n",
        "from sklearn.metrics import recall_score\n",
        "import itertools"
      ],
      "execution_count": null,
      "outputs": []
    },
    {
      "cell_type": "code",
      "metadata": {
        "id": "iilVZofi26hy"
      },
      "source": [
        "def plot_confusion_matrix(cm, classes,\n",
        "                          normalize=False,\n",
        "                          title='Confusion matrix',\n",
        "                          cmap=plt.cm.Blues):\n",
        "    if normalize:\n",
        "        cm = cm.astype('float') / cm.sum(axis=1)[:, np.newaxis]\n",
        "\n",
        "    plt.imshow(cm, interpolation='nearest', cmap=cmap)\n",
        "    plt.title(title)\n",
        "    plt.colorbar()\n",
        "    tick_marks = np.arange(len(classes))\n",
        "    plt.xticks(tick_marks, classes, rotation=90)\n",
        "    plt.yticks(tick_marks, classes)\n",
        "\n",
        "    fmt = '.2f' if normalize else 'd'\n",
        "    thresh = cm.max() / 2.\n",
        "    for i, j in itertools.product(range(cm.shape[0]), range(cm.shape[1])):\n",
        "        plt.text(j, i, format(cm[i, j], fmt),\n",
        "                 horizontalalignment=\"center\",\n",
        "                 color=\"white\" if cm[i, j] > thresh else \"black\")\n",
        "\n",
        "    plt.tight_layout()\n",
        "    plt.ylabel('True label')\n",
        "    plt.xlabel('Predicted label')"
      ],
      "execution_count": null,
      "outputs": []
    },
    {
      "cell_type": "code",
      "metadata": {
        "id": "nvejpDcK27ao"
      },
      "source": [
        ""
      ],
      "execution_count": null,
      "outputs": []
    },
    {
      "cell_type": "markdown",
      "metadata": {
        "id": "ApXUxbd1uFc4"
      },
      "source": [
        "Upload model best state"
      ]
    },
    {
      "cell_type": "code",
      "metadata": {
        "id": "mN4Od14NDDKV",
        "colab": {
          "base_uri": "https://localhost:8080/"
        },
        "outputId": "9978ad9a-ec1f-464f-bc01-7b9b2186423a"
      },
      "source": [
        "len(test_dataloader.dataset)"
      ],
      "execution_count": null,
      "outputs": [
        {
          "output_type": "execute_result",
          "data": {
            "text/plain": [
              "1388"
            ]
          },
          "metadata": {
            "tags": []
          },
          "execution_count": 17
        }
      ]
    },
    {
      "cell_type": "code",
      "metadata": {
        "colab": {
          "base_uri": "https://localhost:8080/"
        },
        "id": "Qr6wjZddv_FO",
        "outputId": "7a3883d2-5b9e-48a1-a985-d8f7efb26e11"
      },
      "source": [
        "weights_dir = BASE_PATH + 'weights_seg_patch_2/'\n",
        "# Load the best weights\n",
        "best_weights =  sorted(glob.glob(weights_dir + \"/*\"),\n",
        "                    key= lambda x: x[8:-5])[-1]\n",
        "checkpoint = torch.load(best_weights)\n",
        "model.load_state_dict(checkpoint['last_state_dict'])\n",
        "\n",
        "print(f'Loaded model: {best_weights.split(\"/\")[-1]}')"
      ],
      "execution_count": null,
      "outputs": [
        {
          "output_type": "stream",
          "text": [
            "Loaded model: 0.927954_.pth\n"
          ],
          "name": "stdout"
        }
      ]
    },
    {
      "cell_type": "code",
      "metadata": {
        "colab": {
          "base_uri": "https://localhost:8080/",
          "height": 235
        },
        "id": "8MLmsgwN4XdH",
        "outputId": "6d8563a3-d9ad-48dd-d6cc-0f96fcfd9d99"
      },
      "source": [
        "small_test_df = test_df.iloc[-6:]\n",
        "small_test_df"
      ],
      "execution_count": null,
      "outputs": [
        {
          "output_type": "execute_result",
          "data": {
            "text/html": [
              "<div>\n",
              "<style scoped>\n",
              "    .dataframe tbody tr th:only-of-type {\n",
              "        vertical-align: middle;\n",
              "    }\n",
              "\n",
              "    .dataframe tbody tr th {\n",
              "        vertical-align: top;\n",
              "    }\n",
              "\n",
              "    .dataframe thead th {\n",
              "        text-align: right;\n",
              "    }\n",
              "</style>\n",
              "<table border=\"1\" class=\"dataframe\">\n",
              "  <thead>\n",
              "    <tr style=\"text-align: right;\">\n",
              "      <th></th>\n",
              "      <th>Unnamed: 0</th>\n",
              "      <th>Unnamed: 0.1</th>\n",
              "      <th>filename</th>\n",
              "      <th>type</th>\n",
              "    </tr>\n",
              "  </thead>\n",
              "  <tbody>\n",
              "    <tr>\n",
              "      <th>1382</th>\n",
              "      <td>5516</td>\n",
              "      <td>5516</td>\n",
              "      <td>person296_bacteria_1395.jpeg</td>\n",
              "      <td>pneumonia</td>\n",
              "    </tr>\n",
              "    <tr>\n",
              "      <th>1383</th>\n",
              "      <td>652</td>\n",
              "      <td>652</td>\n",
              "      <td>618.png</td>\n",
              "      <td>covid</td>\n",
              "    </tr>\n",
              "    <tr>\n",
              "      <th>1384</th>\n",
              "      <td>33</td>\n",
              "      <td>33</td>\n",
              "      <td>COVID-19 (774).jpg</td>\n",
              "      <td>covid</td>\n",
              "    </tr>\n",
              "    <tr>\n",
              "      <th>1385</th>\n",
              "      <td>4988</td>\n",
              "      <td>4988</td>\n",
              "      <td>person1067_bacteria_3001.jpeg</td>\n",
              "      <td>pneumonia</td>\n",
              "    </tr>\n",
              "    <tr>\n",
              "      <th>1386</th>\n",
              "      <td>44</td>\n",
              "      <td>44</td>\n",
              "      <td>COVID19(462).jpg</td>\n",
              "      <td>covid</td>\n",
              "    </tr>\n",
              "    <tr>\n",
              "      <th>1387</th>\n",
              "      <td>3307</td>\n",
              "      <td>3307</td>\n",
              "      <td>00001101_013.png</td>\n",
              "      <td>normal</td>\n",
              "    </tr>\n",
              "  </tbody>\n",
              "</table>\n",
              "</div>"
            ],
            "text/plain": [
              "      Unnamed: 0  Unnamed: 0.1                       filename       type\n",
              "1382        5516          5516   person296_bacteria_1395.jpeg  pneumonia\n",
              "1383         652           652                        618.png      covid\n",
              "1384          33            33             COVID-19 (774).jpg      covid\n",
              "1385        4988          4988  person1067_bacteria_3001.jpeg  pneumonia\n",
              "1386          44            44               COVID19(462).jpg      covid\n",
              "1387        3307          3307               00001101_013.png     normal"
            ]
          },
          "metadata": {
            "tags": []
          },
          "execution_count": 59
        }
      ]
    },
    {
      "cell_type": "code",
      "metadata": {
        "id": "0zx1-KYX4fa6"
      },
      "source": [
        "small_test_df.to_csv(BASE_PATH + 'small.csv')"
      ],
      "execution_count": null,
      "outputs": []
    },
    {
      "cell_type": "code",
      "metadata": {
        "id": "dOt2pyHl4vOD"
      },
      "source": [
        "small_dataset = XRayDataset(csv_path=BASE_PATH + 'small.csv', img_dir=BASE_PATH, mask_dir=MASKS, augmentation=test_transforms)\n",
        "small_dataloader = DataLoader(small_dataset, batch_size=2, num_workers=4)"
      ],
      "execution_count": null,
      "outputs": []
    },
    {
      "cell_type": "code",
      "metadata": {
        "colab": {
          "base_uri": "https://localhost:8080/",
          "height": 845
        },
        "id": "kX4xK6AruMVE",
        "outputId": "c58417f0-61e9-4998-d409-0a15617db26f"
      },
      "source": [
        "print('Start testing')\n",
        "model.eval()\n",
        "\n",
        "patches_amount = 100\n",
        "test_len = len(test_dataloader.dataset)\n",
        "y_true = []\n",
        "y_pred_patch = []\n",
        "for i in range(test_len):\n",
        "  y_pred_patch.append([])\n",
        "\n",
        "assert len(y_pred_patch) == test_len\n",
        "\n",
        "for iter in range(patches_amount):\n",
        "    test_idx = 0\n",
        "    for data, target in test_dataloader:\n",
        "        data = data.permute(0,3,1,2).to(DEVICE)\n",
        "        targets = target.unsqueeze(1).to(DEVICE)\n",
        "        target = target.to(DEVICE)\n",
        "        targets_np = np.asarray(targets.cpu())\n",
        "\n",
        "        outputs = model(data)\n",
        "        out_cut = np.copy(outputs.data.cpu().numpy())\n",
        "\n",
        "        # metrics\n",
        "        _, preds = torch.max(outputs, 1)\n",
        "        # corrects += torch.sum(preds == target.data)\n",
        "        pred_np = np.asarray(preds.cpu())\n",
        "\n",
        "        if iter == 0:\n",
        "          for x in targets_np:\n",
        "            y_true.append(x)\n",
        "\n",
        "        for x in range(len(data)):\n",
        "          y_pred_patch[test_idx].append(pred_np[x])\n",
        "          test_idx += 1\n",
        "\n",
        "        \n",
        "y_pred = []\n",
        "for i in range(test_len):\n",
        "  y_pred.append(np.bincount(y_pred_patch[i]).argmax())\n",
        "\n",
        "print(y_true)\n",
        "print(y_pred)\n",
        "\n",
        "# Overall classification report\n",
        "print(classification_report(y_true, y_pred, target_names=['Normal', 'Pneumonia', 'COVID-19']))\n",
        "ACC = accuracy_score(y_true, y_pred)\n",
        "PREC = precision_score(y_true, y_pred, average='macro')\n",
        "REC = recall_score(y_true, y_pred, average='macro')\n",
        "F1 = f1_score(y_true, y_pred, average='macro')\n",
        "\n",
        "print('Accuracy: {:.4f} Precision: {:.4f} Recall: {:.4f} F1: {:.4f}'.format(ACC, PREC, REC, F1))\n",
        "\n",
        "# Plot confusion matrix\n",
        "cm = confusion_matrix(y_true, y_pred)\n",
        "plt.figure(figsize=(8, 8))\n",
        "plt.grid(b=False)\n",
        "plot_confusion_matrix(cm, classes=['Normal', 'Pneumonia', 'COVID-19'], normalize=False,\n",
        "                      title='Confusion matrix', cmap=plt.cm.Blues)\n",
        "plt.show()\n",
        "plt.savefig(BASE_PATH + 'confmatrix_test.png')\n",
        "\n"
      ],
      "execution_count": null,
      "outputs": [
        {
          "output_type": "stream",
          "text": [
            "Start testing\n",
            "[array([0]), array([1]), array([1]), array([0]), array([1]), array([1]), array([2]), array([2]), array([1]), array([0]), array([0]), array([1]), array([0]), array([2]), array([2]), array([0]), array([1]), array([0]), array([0]), array([0]), array([1]), array([1]), array([2]), array([2]), array([2]), array([2]), array([1]), array([0]), array([0]), array([1]), array([1]), array([1]), array([2]), array([1]), array([0]), array([1]), array([0]), array([2]), array([2]), array([1]), array([1]), array([1]), array([2]), array([0]), array([2]), array([1]), array([2]), array([1]), array([2]), array([2]), array([1]), array([2]), array([1]), array([1]), array([1]), array([2]), array([0]), array([0]), array([1]), array([0]), array([0]), array([2]), array([1]), array([2]), array([2]), array([2]), array([0]), array([2]), array([0]), array([0]), array([0]), array([2]), array([1]), array([0]), array([1]), array([2]), array([1]), array([2]), array([2]), array([0]), array([1]), array([2]), array([1]), array([2]), array([1]), array([0]), array([0]), array([1]), array([1]), array([2]), array([0]), array([1]), array([0]), array([0]), array([0]), array([0]), array([0]), array([2]), array([0]), array([2]), array([0]), array([1]), array([0]), array([1]), array([2]), array([0]), array([2]), array([0]), array([2]), array([0]), array([2]), array([2]), array([0]), array([2]), array([0]), array([2]), array([0]), array([0]), array([2]), array([2]), array([0]), array([1]), array([2]), array([2]), array([0]), array([2]), array([1]), array([2]), array([2]), array([1]), array([0]), array([2]), array([2]), array([2]), array([1]), array([2]), array([1]), array([2]), array([2]), array([2]), array([0]), array([0]), array([1]), array([0]), array([1]), array([0]), array([2]), array([0]), array([0]), array([2]), array([1]), array([0]), array([0]), array([2]), array([2]), array([2]), array([1]), array([1]), array([0]), array([1]), array([1]), array([2]), array([1]), array([1]), array([1]), array([2]), array([0]), array([0]), array([0]), array([0]), array([0]), array([0]), array([1]), array([0]), array([0]), array([0]), array([2]), array([1]), array([2]), array([0]), array([1]), array([0]), array([2]), array([0]), array([0]), array([1]), array([1]), array([2]), array([0]), array([1]), array([2]), array([0]), array([2]), array([0]), array([1]), array([2]), array([2]), array([2]), array([2]), array([1]), array([2]), array([0]), array([0]), array([1]), array([0]), array([2]), array([1]), array([2]), array([0]), array([0]), array([1]), array([0]), array([1]), array([2]), array([2]), array([2]), array([0]), array([1]), array([2]), array([0]), array([0]), array([2]), array([2]), array([1]), array([0]), array([2]), array([2]), array([1]), array([1]), array([2]), array([0]), array([1]), array([2]), array([2]), array([1]), array([2]), array([1]), array([1]), array([2]), array([2]), array([2]), array([0]), array([0]), array([1]), array([0]), array([0]), array([2]), array([0]), array([2]), array([1]), array([1]), array([2]), array([1]), array([1]), array([2]), array([1]), array([0]), array([1]), array([2]), array([2]), array([2]), array([0]), array([1]), array([1]), array([1]), array([2]), array([1]), array([0]), array([2]), array([1]), array([2]), array([2]), array([1]), array([0]), array([1]), array([0]), array([1]), array([2]), array([0]), array([2]), array([0]), array([0]), array([0]), array([0]), array([1]), array([2]), array([0]), array([1]), array([1]), array([1]), array([2]), array([1]), array([0]), array([0]), array([1]), array([0]), array([2]), array([1]), array([2]), array([1]), array([1]), array([2]), array([1]), array([2]), array([1]), array([1]), array([1]), array([2]), array([0]), array([1]), array([2]), array([2]), array([0]), array([2]), array([0]), array([0]), array([2]), array([2]), array([1]), array([0]), array([2]), array([2]), array([2]), array([0]), array([2]), array([0]), array([2]), array([2]), array([0]), array([2]), array([0]), array([2]), array([0]), array([1]), array([1]), array([1]), array([0]), array([0]), array([0]), array([0]), array([0]), array([0]), array([2]), array([2]), array([1]), array([2]), array([0]), array([0]), array([0]), array([2]), array([0]), array([2]), array([0]), array([2]), array([0]), array([0]), array([1]), array([0]), array([2]), array([1]), array([1]), array([1]), array([1]), array([0]), array([1]), array([2]), array([2]), array([2]), array([1]), array([2]), array([1]), array([0]), array([1]), array([0]), array([2]), array([1]), array([0]), array([2]), array([0]), array([2]), array([1]), array([1]), array([0]), array([2]), array([0]), array([1]), array([1]), array([0]), array([2]), array([2]), array([1]), array([2]), array([2]), array([2]), array([2]), array([2]), array([0]), array([1]), array([0]), array([0]), array([1]), array([0]), array([2]), array([0]), array([2]), array([2]), array([0]), array([2]), array([2]), array([1]), array([2]), array([0]), array([1]), array([2]), array([0]), array([1]), array([2]), array([0]), array([2]), array([2]), array([1]), array([1]), array([0]), array([2]), array([2]), array([0]), array([0]), array([2]), array([1]), array([2]), array([1]), array([2]), array([2]), array([1]), array([2]), array([2]), array([0]), array([2]), array([2]), array([0]), array([2]), array([0]), array([2]), array([1]), array([1]), array([1]), array([0]), array([2]), array([2]), array([1]), array([0]), array([0]), array([2]), array([2]), array([0]), array([2]), array([2]), array([2]), array([2]), array([0]), array([0]), array([2]), array([1]), array([0]), array([0]), array([2]), array([0]), array([1]), array([1]), array([2]), array([0]), array([0]), array([2]), array([0]), array([2]), array([2]), array([2]), array([0]), array([1]), array([1]), array([0]), array([1]), array([0]), array([0]), array([1]), array([0]), array([1]), array([2]), array([2]), array([1]), array([2]), array([0]), array([0]), array([0]), array([1]), array([1]), array([1]), array([1]), array([1]), array([2]), array([2]), array([2]), array([2]), array([0]), array([0]), array([2]), array([1]), array([1]), array([0]), array([2]), array([0]), array([0]), array([1]), array([0]), array([2]), array([1]), array([2]), array([1]), array([0]), array([2]), array([2]), array([2]), array([0]), array([2]), array([1]), array([1]), array([0]), array([2]), array([1]), array([1]), array([1]), array([2]), array([0]), array([1]), array([2]), array([1]), array([1]), array([2]), array([2]), array([0]), array([0]), array([2]), array([1]), array([0]), array([1]), array([2]), array([1]), array([0]), array([0]), array([1]), array([2]), array([2]), array([2]), array([1]), array([0]), array([2]), array([2]), array([1]), array([2]), array([1]), array([0]), array([2]), array([2]), array([1]), array([2]), array([0]), array([2]), array([0]), array([1]), array([2]), array([1]), array([2]), array([2]), array([1]), array([0]), array([0]), array([2]), array([1]), array([2]), array([0]), array([2]), array([0]), array([0]), array([2]), array([2]), array([0]), array([0]), array([2]), array([0]), array([1]), array([0]), array([2]), array([2]), array([1]), array([1]), array([0]), array([0]), array([1]), array([2]), array([0]), array([0]), array([0]), array([0]), array([0]), array([2]), array([0]), array([0]), array([1]), array([2]), array([0]), array([2]), array([2]), array([1]), array([1]), array([1]), array([2]), array([2]), array([0]), array([2]), array([0]), array([0]), array([0]), array([2]), array([0]), array([0]), array([1]), array([2]), array([2]), array([2]), array([0]), array([0]), array([0]), array([1]), array([1]), array([2]), array([1]), array([2]), array([1]), array([1]), array([1]), array([1]), array([2]), array([2]), array([1]), array([2]), array([0]), array([1]), array([0]), array([2]), array([1]), array([2]), array([1]), array([0]), array([0]), array([2]), array([1]), array([2]), array([0]), array([2]), array([2]), array([0]), array([0]), array([1]), array([0]), array([2]), array([1]), array([0]), array([0]), array([0]), array([2]), array([0]), array([0]), array([1]), array([1]), array([1]), array([0]), array([2]), array([1]), array([1]), array([0]), array([2]), array([0]), array([1]), array([1]), array([1]), array([2]), array([1]), array([0]), array([2]), array([0]), array([0]), array([0]), array([2]), array([1]), array([1]), array([1]), array([1]), array([1]), array([0]), array([1]), array([1]), array([1]), array([0]), array([2]), array([0]), array([1]), array([0]), array([2]), array([0]), array([1]), array([1]), array([1]), array([1]), array([0]), array([2]), array([1]), array([2]), array([1]), array([1]), array([2]), array([2]), array([1]), array([1]), array([1]), array([1]), array([1]), array([0]), array([2]), array([0]), array([1]), array([1]), array([0]), array([2]), array([1]), array([0]), array([2]), array([1]), array([0]), array([0]), array([2]), array([2]), array([0]), array([1]), array([1]), array([1]), array([0]), array([1]), array([1]), array([2]), array([1]), array([1]), array([0]), array([2]), array([2]), array([0]), array([1]), array([1]), array([1]), array([1]), array([0]), array([1]), array([2]), array([0]), array([0]), array([2]), array([0]), array([1]), array([2]), array([0]), array([1]), array([2]), array([2]), array([0]), array([1]), array([1]), array([2]), array([2]), array([0]), array([1]), array([0]), array([2]), array([0]), array([0]), array([1]), array([2]), array([2]), array([0]), array([0]), array([2]), array([1]), array([1]), array([0]), array([0]), array([2]), array([2]), array([0]), array([0]), array([1]), array([0]), array([0]), array([1]), array([1]), array([2]), array([2]), array([1]), array([0]), array([1]), array([2]), array([2]), array([0]), array([2]), array([1]), array([2]), array([1]), array([1]), array([0]), array([2]), array([1]), array([0]), array([2]), array([1]), array([2]), array([1]), array([1]), array([0]), array([0]), array([0]), array([1]), array([2]), array([1]), array([1]), array([2]), array([0]), array([0]), array([1]), array([1]), array([1]), array([1]), array([0]), array([2]), array([2]), array([1]), array([0]), array([1]), array([1]), array([0]), array([0]), array([0]), array([0]), array([2]), array([1]), array([1]), array([0]), array([2]), array([0]), array([0]), array([1]), array([2]), array([1]), array([1]), array([1]), array([2]), array([2]), array([0]), array([0]), array([2]), array([2]), array([2]), array([2]), array([2]), array([0]), array([0]), array([0]), array([1]), array([1]), array([1]), array([0]), array([2]), array([2]), array([0]), array([0]), array([1]), array([2]), array([2]), array([1]), array([0]), array([1]), array([2]), array([2]), array([2]), array([0]), array([0]), array([0]), array([2]), array([2]), array([1]), array([2]), array([0]), array([2]), array([2]), array([1]), array([0]), array([2]), array([0]), array([0]), array([0]), array([1]), array([1]), array([1]), array([0]), array([0]), array([0]), array([1]), array([0]), array([0]), array([1]), array([0]), array([0]), array([2]), array([2]), array([1]), array([1]), array([1]), array([0]), array([0]), array([2]), array([1]), array([0]), array([2]), array([2]), array([0]), array([0]), array([1]), array([0]), array([2]), array([0]), array([0]), array([1]), array([2]), array([2]), array([0]), array([2]), array([2]), array([1]), array([2]), array([0]), array([0]), array([2]), array([2]), array([2]), array([2]), array([0]), array([0]), array([0]), array([0]), array([0]), array([0]), array([2]), array([0]), array([2]), array([0]), array([1]), array([0]), array([1]), array([2]), array([1]), array([2]), array([1]), array([1]), array([1]), array([2]), array([2]), array([1]), array([0]), array([0]), array([1]), array([2]), array([2]), array([1]), array([0]), array([2]), array([1]), array([0]), array([0]), array([2]), array([1]), array([1]), array([0]), array([2]), array([1]), array([2]), array([0]), array([0]), array([1]), array([1]), array([0]), array([2]), array([0]), array([2]), array([2]), array([0]), array([1]), array([0]), array([0]), array([1]), array([2]), array([2]), array([0]), array([2]), array([2]), array([1]), array([0]), array([2]), array([0]), array([2]), array([0]), array([1]), array([0]), array([2]), array([2]), array([1]), array([1]), array([0]), array([0]), array([1]), array([0]), array([0]), array([0]), array([0]), array([1]), array([0]), array([1]), array([0]), array([1]), array([1]), array([2]), array([1]), array([2]), array([1]), array([1]), array([0]), array([1]), array([1]), array([0]), array([2]), array([1]), array([2]), array([0]), array([2]), array([1]), array([0]), array([2]), array([0]), array([2]), array([0]), array([1]), array([1]), array([1]), array([0]), array([1]), array([0]), array([0]), array([2]), array([2]), array([1]), array([2]), array([2]), array([2]), array([2]), array([1]), array([2]), array([1]), array([1]), array([1]), array([0]), array([2]), array([0]), array([0]), array([1]), array([1]), array([1]), array([1]), array([2]), array([0]), array([2]), array([0]), array([1]), array([2]), array([1]), array([2]), array([2]), array([2]), array([1]), array([0]), array([0]), array([2]), array([1]), array([1]), array([2]), array([1]), array([1]), array([0]), array([0]), array([2]), array([1]), array([2]), array([2]), array([2]), array([2]), array([0]), array([0]), array([1]), array([1]), array([1]), array([0]), array([0]), array([2]), array([0]), array([0]), array([0]), array([0]), array([0]), array([1]), array([2]), array([2]), array([2]), array([0]), array([2]), array([1]), array([2]), array([2]), array([2]), array([0]), array([1]), array([0]), array([1]), array([1]), array([2]), array([2]), array([0]), array([0]), array([0]), array([2]), array([2]), array([2]), array([2]), array([2]), array([0]), array([2]), array([0]), array([2]), array([2]), array([1]), array([1]), array([0]), array([2]), array([0]), array([1]), array([1]), array([2]), array([2]), array([1]), array([2]), array([2]), array([1]), array([0]), array([2]), array([2]), array([0]), array([0]), array([2]), array([1]), array([1]), array([1]), array([1]), array([1]), array([2]), array([0]), array([1]), array([1]), array([1]), array([0]), array([0]), array([1]), array([0]), array([0]), array([2]), array([0]), array([2]), array([2]), array([0]), array([2]), array([2]), array([0]), array([2]), array([1]), array([1]), array([2]), array([0]), array([2]), array([2]), array([1]), array([2]), array([2]), array([0]), array([2]), array([0]), array([0]), array([1]), array([0]), array([0]), array([2]), array([2]), array([1]), array([1]), array([0]), array([0]), array([1]), array([1]), array([2]), array([0]), array([1]), array([1]), array([2]), array([0]), array([1]), array([1]), array([1]), array([1]), array([1]), array([1]), array([1]), array([1]), array([0]), array([1]), array([2]), array([2]), array([2]), array([0]), array([1]), array([2]), array([0]), array([2]), array([1]), array([1]), array([2]), array([2]), array([0]), array([0]), array([0]), array([0]), array([2]), array([0]), array([1]), array([2]), array([0]), array([0]), array([1]), array([1]), array([2]), array([0]), array([1]), array([0]), array([0]), array([1]), array([0]), array([2]), array([2]), array([1]), array([0]), array([2]), array([2]), array([2]), array([0]), array([2]), array([0]), array([1]), array([2]), array([1]), array([1]), array([0]), array([2]), array([1]), array([1]), array([1]), array([0]), array([1]), array([2]), array([0]), array([1]), array([2]), array([1]), array([2]), array([1]), array([0]), array([2]), array([2]), array([2]), array([0]), array([1]), array([1]), array([1]), array([1]), array([1]), array([2]), array([0]), array([2]), array([0]), array([1]), array([2]), array([0]), array([2]), array([0]), array([1]), array([1]), array([2]), array([1]), array([2]), array([2]), array([0]), array([2]), array([1]), array([2]), array([1]), array([1]), array([2]), array([0]), array([1]), array([0]), array([2]), array([0]), array([1]), array([0]), array([0]), array([2]), array([0]), array([2]), array([1]), array([2]), array([1]), array([2]), array([1]), array([1]), array([2]), array([0]), array([2]), array([2]), array([0]), array([2]), array([2]), array([2]), array([1]), array([1]), array([1]), array([1]), array([1]), array([0]), array([0]), array([0]), array([1]), array([1]), array([2]), array([1]), array([0]), array([0]), array([1]), array([2]), array([1]), array([0]), array([2]), array([0]), array([0]), array([1]), array([1]), array([1]), array([0]), array([2]), array([0]), array([2]), array([2]), array([2]), array([0]), array([1]), array([2]), array([2]), array([1]), array([2]), array([0])]\n",
            "[0, 1, 1, 0, 2, 1, 2, 2, 1, 0, 0, 1, 0, 2, 2, 0, 1, 0, 0, 0, 1, 1, 2, 2, 2, 0, 1, 0, 0, 1, 0, 1, 2, 1, 0, 1, 0, 2, 2, 1, 1, 1, 2, 0, 2, 0, 2, 1, 2, 2, 1, 2, 1, 1, 1, 1, 0, 0, 1, 0, 0, 2, 1, 2, 2, 2, 0, 2, 0, 0, 0, 2, 1, 0, 1, 2, 2, 2, 2, 0, 1, 2, 1, 2, 1, 0, 0, 1, 1, 2, 0, 1, 0, 0, 0, 0, 0, 2, 0, 2, 0, 0, 0, 1, 2, 0, 2, 0, 2, 0, 2, 2, 0, 2, 0, 2, 0, 0, 2, 2, 0, 1, 2, 2, 0, 2, 1, 2, 2, 1, 0, 2, 2, 2, 1, 2, 1, 2, 2, 2, 0, 0, 1, 0, 1, 0, 2, 0, 0, 2, 1, 0, 0, 2, 2, 2, 0, 1, 0, 1, 1, 2, 1, 1, 1, 2, 0, 0, 0, 0, 0, 0, 1, 0, 0, 0, 2, 1, 2, 2, 1, 0, 0, 0, 0, 1, 1, 2, 0, 1, 2, 0, 2, 0, 1, 2, 2, 2, 2, 1, 2, 0, 0, 1, 0, 2, 1, 2, 0, 0, 1, 0, 1, 2, 2, 2, 0, 1, 2, 0, 0, 2, 2, 1, 0, 2, 2, 1, 1, 2, 0, 1, 2, 2, 1, 2, 1, 1, 2, 2, 2, 0, 0, 1, 0, 0, 2, 0, 2, 0, 1, 2, 1, 1, 2, 1, 0, 1, 2, 2, 2, 0, 1, 1, 1, 2, 1, 0, 2, 1, 2, 2, 0, 0, 1, 0, 0, 2, 0, 2, 0, 0, 0, 0, 1, 2, 0, 1, 1, 1, 2, 1, 0, 0, 1, 0, 2, 1, 2, 0, 1, 2, 1, 2, 1, 1, 1, 2, 0, 1, 2, 2, 0, 2, 0, 0, 2, 2, 1, 0, 2, 2, 2, 0, 2, 0, 2, 2, 0, 2, 0, 2, 0, 1, 1, 1, 0, 0, 0, 0, 0, 0, 2, 2, 0, 2, 0, 0, 0, 2, 0, 2, 0, 2, 0, 0, 1, 0, 2, 1, 1, 1, 1, 0, 1, 2, 2, 2, 1, 2, 1, 0, 1, 0, 2, 1, 0, 2, 0, 2, 2, 1, 0, 2, 0, 1, 1, 0, 2, 2, 1, 2, 2, 2, 2, 2, 0, 1, 0, 0, 2, 0, 2, 0, 2, 2, 0, 2, 2, 1, 2, 0, 1, 2, 0, 1, 2, 0, 2, 2, 1, 1, 0, 2, 2, 0, 0, 2, 1, 2, 1, 2, 2, 1, 2, 2, 0, 2, 2, 0, 2, 0, 2, 1, 1, 1, 0, 2, 2, 1, 0, 0, 2, 2, 0, 2, 1, 2, 2, 0, 0, 2, 0, 0, 0, 2, 0, 1, 1, 2, 0, 0, 2, 0, 2, 2, 2, 0, 1, 1, 0, 1, 0, 0, 1, 0, 1, 2, 2, 1, 2, 0, 0, 0, 1, 1, 1, 1, 1, 2, 2, 2, 2, 0, 0, 2, 1, 1, 0, 2, 0, 0, 0, 0, 2, 1, 2, 1, 0, 2, 2, 2, 0, 2, 0, 1, 0, 2, 1, 1, 1, 2, 0, 1, 2, 1, 1, 2, 2, 0, 0, 2, 1, 0, 1, 2, 1, 0, 0, 1, 2, 2, 2, 1, 0, 2, 2, 1, 2, 1, 0, 2, 2, 1, 2, 0, 2, 0, 1, 2, 1, 2, 2, 1, 0, 0, 2, 1, 2, 0, 2, 0, 0, 2, 2, 0, 0, 1, 0, 1, 0, 2, 2, 1, 1, 0, 0, 1, 2, 0, 0, 0, 0, 0, 2, 0, 0, 1, 2, 0, 2, 2, 1, 1, 1, 2, 2, 0, 2, 0, 0, 0, 2, 0, 0, 1, 2, 2, 2, 0, 0, 0, 1, 1, 2, 1, 2, 1, 1, 1, 1, 1, 2, 1, 2, 0, 1, 0, 2, 1, 2, 1, 0, 0, 2, 1, 0, 0, 2, 2, 0, 0, 1, 0, 2, 1, 0, 0, 0, 2, 0, 0, 1, 1, 1, 0, 2, 0, 1, 0, 2, 0, 1, 1, 1, 2, 1, 0, 2, 0, 0, 0, 2, 1, 1, 1, 1, 0, 0, 1, 2, 1, 0, 2, 0, 1, 0, 2, 0, 1, 1, 1, 1, 0, 2, 1, 2, 1, 1, 0, 2, 1, 1, 1, 1, 1, 0, 2, 0, 1, 1, 1, 2, 1, 0, 2, 1, 0, 0, 2, 2, 0, 1, 1, 1, 0, 1, 1, 2, 1, 1, 0, 0, 2, 0, 1, 1, 1, 1, 0, 1, 2, 0, 0, 2, 0, 1, 2, 0, 1, 2, 2, 0, 1, 1, 2, 2, 0, 1, 0, 2, 0, 0, 1, 2, 2, 0, 0, 2, 1, 1, 0, 0, 2, 2, 0, 0, 1, 0, 0, 2, 1, 2, 2, 1, 0, 0, 2, 2, 0, 2, 1, 2, 1, 1, 0, 2, 1, 0, 1, 2, 2, 0, 1, 0, 0, 0, 1, 2, 1, 1, 2, 0, 0, 1, 1, 1, 1, 0, 2, 2, 1, 0, 1, 0, 0, 0, 0, 0, 2, 1, 1, 0, 2, 0, 0, 1, 2, 1, 1, 1, 2, 2, 0, 0, 2, 0, 2, 2, 2, 0, 0, 0, 1, 1, 1, 0, 2, 2, 0, 0, 1, 2, 2, 0, 0, 1, 2, 2, 2, 0, 0, 0, 2, 2, 1, 2, 0, 1, 2, 1, 0, 2, 0, 0, 0, 1, 1, 1, 0, 0, 0, 1, 0, 0, 1, 2, 0, 2, 2, 1, 1, 1, 0, 0, 2, 1, 0, 2, 2, 0, 0, 1, 0, 2, 0, 0, 1, 2, 2, 0, 2, 2, 1, 2, 0, 0, 2, 2, 2, 2, 0, 0, 0, 0, 0, 0, 2, 0, 2, 0, 1, 0, 1, 2, 1, 2, 1, 0, 1, 2, 2, 1, 0, 0, 1, 2, 2, 1, 0, 2, 1, 0, 0, 2, 1, 1, 0, 2, 1, 2, 0, 0, 1, 1, 0, 2, 0, 2, 2, 0, 2, 0, 0, 1, 2, 2, 0, 2, 2, 1, 0, 2, 0, 2, 0, 1, 0, 2, 2, 1, 1, 0, 0, 1, 0, 0, 0, 0, 1, 0, 1, 2, 1, 1, 2, 1, 0, 1, 0, 0, 0, 1, 0, 1, 1, 1, 0, 2, 1, 0, 2, 0, 2, 0, 1, 1, 1, 0, 1, 0, 0, 2, 2, 1, 2, 2, 2, 2, 1, 2, 1, 1, 1, 0, 2, 0, 0, 1, 1, 1, 1, 2, 0, 2, 0, 1, 2, 0, 2, 2, 2, 1, 0, 0, 0, 1, 1, 2, 0, 2, 0, 0, 2, 0, 2, 2, 2, 2, 0, 0, 1, 0, 1, 0, 0, 2, 0, 0, 0, 0, 0, 1, 2, 2, 2, 0, 2, 1, 2, 2, 0, 0, 1, 0, 1, 1, 2, 2, 0, 0, 0, 2, 2, 2, 2, 2, 0, 2, 0, 2, 2, 1, 1, 0, 2, 0, 1, 1, 2, 2, 0, 2, 2, 1, 0, 2, 2, 0, 0, 2, 1, 1, 1, 1, 1, 2, 0, 1, 1, 1, 0, 0, 1, 0, 0, 2, 0, 2, 2, 0, 2, 2, 0, 2, 1, 1, 2, 0, 2, 2, 1, 2, 2, 0, 2, 0, 0, 0, 0, 0, 2, 2, 1, 1, 0, 0, 1, 0, 2, 0, 1, 1, 2, 0, 1, 1, 1, 1, 1, 1, 1, 1, 0, 1, 2, 2, 2, 0, 1, 2, 0, 2, 0, 1, 2, 2, 0, 0, 0, 0, 2, 0, 1, 2, 0, 0, 0, 1, 2, 0, 1, 0, 0, 1, 0, 2, 2, 1, 0, 2, 2, 2, 0, 2, 0, 1, 1, 0, 1, 0, 2, 1, 1, 1, 0, 1, 2, 0, 1, 2, 1, 2, 1, 0, 2, 2, 2, 0, 0, 1, 1, 1, 1, 2, 0, 2, 0, 1, 2, 0, 2, 0, 1, 1, 0, 1, 2, 2, 0, 2, 1, 2, 1, 1, 2, 0, 1, 0, 2, 0, 1, 0, 0, 2, 0, 2, 1, 2, 1, 2, 1, 2, 2, 0, 2, 1, 0, 2, 2, 2, 1, 1, 1, 1, 1, 0, 0, 0, 1, 1, 2, 1, 0, 1, 1, 2, 1, 0, 2, 0, 0, 1, 1, 1, 0, 2, 0, 2, 2, 2, 0, 1, 2, 2, 1, 2, 0]\n",
            "              precision    recall  f1-score   support\n",
            "\n",
            "      Normal       0.92      0.99      0.95       461\n",
            "   Pneumonia       0.97      0.91      0.94       447\n",
            "    COVID-19       0.97      0.96      0.97       480\n",
            "\n",
            "    accuracy                           0.95      1388\n",
            "   macro avg       0.95      0.95      0.95      1388\n",
            "weighted avg       0.95      0.95      0.95      1388\n",
            "\n",
            "Accuracy: 0.9517 Precision: 0.9531 Recall: 0.9512 F1: 0.9513\n"
          ],
          "name": "stdout"
        },
        {
          "output_type": "display_data",
          "data": {
            "image/png": "[encoded data removed]",
            "text/plain": [
              "<Figure size 576x576 with 2 Axes>"
            ]
          },
          "metadata": {
            "tags": [],
            "needs_background": "light"
          }
        },
        {
          "output_type": "display_data",
          "data": {
            "text/plain": [
              "<Figure size 432x288 with 0 Axes>"
            ]
          },
          "metadata": {
            "tags": []
          }
        }
      ]
    },
    {
      "cell_type": "code",
      "metadata": {
        "id": "RJJSjrYWDDBw"
      },
      "source": [
        ""
      ],
      "execution_count": null,
      "outputs": []
    },
    {
      "cell_type": "markdown",
      "metadata": {
        "id": "NZgpTL5HsdAG"
      },
      "source": [
        "Plots"
      ]
    },
    {
      "cell_type": "code",
      "metadata": {
        "id": "vVCKAZfeDCvr",
        "colab": {
          "base_uri": "https://localhost:8080/",
          "height": 414
        },
        "outputId": "d53c760d-2919-4460-caa9-fa8d4f7c54f0"
      },
      "source": [
        "# train dice\n",
        "sns.set_style(\"white\")\n",
        "fig = plt.figure(figsize=(10, 5), dpi=80)\n",
        "plt.plot(np.arange(100), loss_history, color=\"cornflowerblue\", linewidth=2.5, linestyle=\"-\")\n",
        "\n",
        "plt.xticks(np.arange(0, 100, 10))\n",
        "\n",
        "plt.ylabel(\"Функция потерь\", fontsize=15)\n",
        "plt.xlabel(\"Номер эпохи\", fontsize=15)\n",
        "plt.title(\"Изменение функции потерь во время обучения\", fontsize=18)\n",
        "plt.legend(fontsize=15);\n",
        "\n",
        "plt.show()\n",
        "\n",
        "fig.savefig(BASE_PATH + 'loss.png')"
      ],
      "execution_count": null,
      "outputs": [
        {
          "output_type": "stream",
          "text": [
            "No handles with labels found to put in legend.\n"
          ],
          "name": "stderr"
        },
        {
          "output_type": "display_data",
          "data": {
            "image/png": "[encoded data removed]",
            "text/plain": [
              "<Figure size 800x400 with 1 Axes>"
            ]
          },
          "metadata": {
            "tags": []
          }
        }
      ]
    },
    {
      "cell_type": "code",
      "metadata": {
        "id": "7_LHMQX5DCqt",
        "colab": {
          "base_uri": "https://localhost:8080/",
          "height": 397
        },
        "outputId": "af3c84b0-ac74-4102-f101-1cab9fb41159"
      },
      "source": [
        "# train dice\n",
        "sns.set_style(\"white\")\n",
        "fig = plt.figure(figsize=(10, 5), dpi=80)\n",
        "plt.plot(np.arange(100), train_f1, color=\"royalblue\", linewidth=2.5, linestyle=\"-\")\n",
        "plt.plot(np.arange(100), val_f1, color=\"deepskyblue\", linewidth=2.5, linestyle=\"-\")\n",
        "\n",
        "plt.xticks(np.arange(0, 100, 10))\n",
        "#plt.yticks(np.linspace(0.75, 1, 11))\n",
        "\n",
        "plt.ylabel(\"F1\", fontsize=15)\n",
        "plt.xlabel(\"Номер эпохи\", fontsize=15)\n",
        "plt.title(\"Изменение метрики F1 во время обучения\", fontsize=18)\n",
        "plt.legend(['Обучение', 'Валидация'], fontsize=15);\n",
        "\n",
        "plt.show()\n",
        "\n",
        "fig.savefig(BASE_PATH + 'f1.png')"
      ],
      "execution_count": null,
      "outputs": [
        {
          "output_type": "display_data",
          "data": {
            "image/png": "[encoded data removed]",
            "text/plain": [
              "<Figure size 800x400 with 1 Axes>"
            ]
          },
          "metadata": {
            "tags": []
          }
        }
      ]
    },
    {
      "cell_type": "code",
      "metadata": {
        "id": "p7oJwmJddXxV"
      },
      "source": [
        ""
      ],
      "execution_count": null,
      "outputs": []
    },
    {
      "cell_type": "code",
      "metadata": {
        "id": "lLdkVb34wGWE"
      },
      "source": [
        ""
      ],
      "execution_count": null,
      "outputs": []
    }
  ]
}