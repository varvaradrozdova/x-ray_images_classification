{
 "cells": [
  {
   "cell_type": "code",
   "execution_count": null,
   "metadata": {
    "colab": {
     "base_uri": "https://localhost:8080/"
    },
    "executionInfo": {
     "elapsed": 770,
     "status": "ok",
     "timestamp": 1616343718814,
     "user": {
      "displayName": "Наталья Дроздова",
      "photoUrl": "",
      "userId": "15048798673803495055"
     },
     "user_tz": -180
    },
    "id": "339AU7HOrRjz",
    "outputId": "f36d6157-cf91-4431-8b20-0f094a64a938"
   },
   "outputs": [
    {
     "name": "stdout",
     "output_type": "stream",
     "text": [
      "Drive already mounted at /content/drive; to attempt to forcibly remount, call drive.mount(\"/content/drive\", force_remount=True).\n"
     ]
    }
   ],
   "source": [
    "from google.colab import drive\n",
    "drive.mount('/content/drive')"
   ]
  },
  {
   "cell_type": "code",
   "execution_count": null,
   "metadata": {
    "colab": {
     "base_uri": "https://localhost:8080/"
    },
    "executionInfo": {
     "elapsed": 571,
     "status": "ok",
     "timestamp": 1616343719063,
     "user": {
      "displayName": "Наталья Дроздова",
      "photoUrl": "",
      "userId": "15048798673803495055"
     },
     "user_tz": -180
    },
    "id": "wMaPtPa_rX9w",
    "outputId": "50d9c6fd-3cbb-4301-becf-5995552a366f"
   },
   "outputs": [
    {
     "data": {
      "text/plain": [
       "device(type='cpu')"
      ]
     },
     "execution_count": 124,
     "metadata": {
      "tags": []
     },
     "output_type": "execute_result"
    }
   ],
   "source": [
    "import numpy as np\n",
    "import pandas as pd\n",
    "import matplotlib.pyplot as plt\n",
    "import seaborn as sns\n",
    "import torch\n",
    "import os\n",
    "import cv2\n",
    "from google.colab.patches import cv2_imshow\n",
    "import torch.optim as optim\n",
    "import torch\n",
    "import torch.nn as nn\n",
    "import torchvision\n",
    "from torch.utils.data import Dataset, DataLoader\n",
    "import albumentations as A\n",
    "import glob\n",
    "from sklearn.model_selection import train_test_split\n",
    "\n",
    "MONTGOMERY_PATH = 'drive/MyDrive/course_project/Montgomery/MontgomerySet/'\n",
    "CHINA_PATH = 'drive/MyDrive/course_project/ChinaSet_AllFiles/ChinaSet_AllFiles/'\n",
    "\n",
    "MONTGOMERY_XRAYS_PATH = MONTGOMERY_PATH + 'CXR_png'\n",
    "CHINA_XRAYS_PATH = CHINA_PATH + 'CXR_png'\n",
    "\n",
    "MONTGOMERY_INFO_PATH = MONTGOMERY_PATH + 'ClinicalReadings'\n",
    "CHINA_INFO_PATH = CHINA_PATH + 'ClinicalReadings'\n",
    "\n",
    "MONTGOMERY_RIGHTMASK_PATH = MONTGOMERY_PATH + 'ManualMask/rightMask'\n",
    "MONTGOMERY_LEFTMASK_PATH = MONTGOMERY_PATH + 'ManualMask/leftMask'\n",
    "CHINA_MASKS_PATH = CHINA_PATH + 'mask/'\n",
    "\n",
    "IMAGES_PATH = 'drive/MyDrive/course_project/images/' # folder to save all prepared images from both datasets\n",
    "MASKS_PATH = 'drive/MyDrive/course_project/masks/' # masks for both datatsets\n",
    "\n",
    "TRAIN_UNET_PATH = 'drive/MyDrive/course_project/train_unet'\n",
    "VAL_UNET_PATH = 'drive/MyDrive/course_project/val_unet'\n",
    "TEST_UNET_PATH = 'drive/MyDrive/course_project/test_unet'\n",
    "\n",
    "TRAIN_PATH = 'drive/MyDrive/course_project/train'\n",
    "VAL_PATH = 'drive/MyDrive/course_project/val'\n",
    "TEST_PATH = 'drive/MyDrive/course_project/test'\n",
    "\n",
    "weights_dir = 'drive/MyDrive/course_project/weight'\n",
    "\n",
    "IMG_SIZE = 512\n",
    "BN_EPS = 1e-3\n",
    "MEAN =  np.array([0.485, 0.456, 0.406]) \n",
    "STD =  np.array([0.229, 0.224, 0.225])\n",
    "BATCH_SIZE = 3\n",
    "\n",
    "DEVICE = torch.device(\"cuda\" if torch.cuda.is_available() else \"cpu\") \n",
    "DEVICE"
   ]
  },
  {
   "cell_type": "code",
   "execution_count": null,
   "metadata": {
    "id": "_yBk5Qr3rZYi"
   },
   "outputs": [],
   "source": [
    "directories = [TRAIN_UNET_PATH, VAL_UNET_PATH, TEST_UNET_PATH, TRAIN_PATH, VAL_PATH, TEST_PATH, IMAGES_PATH, MASKS_PATH, weights_dir]\n",
    "for dir in directories:\n",
    "  if not os.path.exists(dir) :\n",
    "    os.mkdir(dir)"
   ]
  },
  {
   "cell_type": "code",
   "execution_count": null,
   "metadata": {
    "colab": {
     "base_uri": "https://localhost:8080/"
    },
    "executionInfo": {
     "elapsed": 351,
     "status": "ok",
     "timestamp": 1616343728379,
     "user": {
      "displayName": "Наталья Дроздова",
      "photoUrl": "",
      "userId": "15048798673803495055"
     },
     "user_tz": -180
    },
    "id": "aQQ4ACU5hRXk",
    "outputId": "9bb63bb1-fb3b-45f9-c265-78085646b4ae"
   },
   "outputs": [
    {
     "data": {
      "text/plain": [
       "True"
      ]
     },
     "execution_count": 126,
     "metadata": {
      "tags": []
     },
     "output_type": "execute_result"
    }
   ],
   "source": [
    "os.path.exists(MASKS_PATH)"
   ]
  },
  {
   "cell_type": "markdown",
   "metadata": {
    "id": "8oZqGWkettXg"
   },
   "source": [
    "Now join left and right parts of mask for all images and write them to folder masks."
   ]
  },
  {
   "cell_type": "code",
   "execution_count": null,
   "metadata": {
    "id": "wh4kuCfHrZbL"
   },
   "outputs": [],
   "source": [
    "for filename in os.listdir(MONTGOMERY_LEFTMASK_PATH):\n",
    "  if not filename.startswith('MCUCXR'):\n",
    "    continue\n",
    "  left = cv2.imread(os.path.join(MONTGOMERY_LEFTMASK_PATH, filename))\n",
    "  right = cv2.imread(os.path.join(MONTGOMERY_RIGHTMASK_PATH, filename))\n",
    "  assert left.shape == right.shape\n",
    "  new_mask = cv2.resize(np.maximum(left, right), (IMG_SIZE, IMG_SIZE))\n",
    "  status = cv2.imwrite(os.path.join(MASKS_PATH, filename), new_mask)\n",
    "  if not status:\n",
    "    print('There is error while saving mask for', filename)\n",
    "    break"
   ]
  },
  {
   "cell_type": "code",
   "execution_count": null,
   "metadata": {
    "id": "C41gsPmzrZd7"
   },
   "outputs": [],
   "source": [
    "all_data = pd.DataFrame(columns=['filename', 'label'])\n",
    "\n",
    "all_unet = pd.DataFrame(columns=['filename'])\n",
    "train_unet_df = pd.DataFrame(columns=['filename'])\n",
    "val_unet_df = pd.DataFrame(columns=['filename'])\n",
    "test_unet_df = pd.DataFrame(columns=['filename'])\n",
    "\n",
    "train_val_model_data = pd.DataFrame(columns=['filename', 'label'])\n",
    "train_df = pd.DataFrame(columns=['filename', 'label'])\n",
    "val_df = pd.DataFrame(columns=['filename', 'label'])\n",
    "test_df = pd.DataFrame(columns=['filename', 'label'])"
   ]
  },
  {
   "cell_type": "markdown",
   "metadata": {
    "id": "PPCbtvshmTpr"
   },
   "source": [
    " There are masks with lung area not for all x-rays from the Shenzhen set. But we still have labels of this images, so all of them can be in test part of images. Let's find them and write their names to test_df"
   ]
  },
  {
   "cell_type": "code",
   "execution_count": null,
   "metadata": {
    "id": "gfsJksx7olf3"
   },
   "outputs": [],
   "source": [
    "china_masks_names = []\n",
    "\n",
    "for filename in os.listdir(CHINA_MASKS_PATH):\n",
    "  if not filename.startswith('CHNCXR'):\n",
    "    continue\n",
    "  china_masks_names.append(filename)\n",
    "  all_data = all_data.append({\"filename\": filename, \"label\": int(filename[-5])}, ignore_index=True)\n",
    "  china_mask_img = cv2.imread(os.path.join(CHINA_MASKS_PATH, filename))\n",
    "  status = cv2.imwrite(os.path.join(MASKS_PATH, filename), \n",
    "                       cv2.resize(china_mask_img, (IMG_SIZE, IMG_SIZE)))\n",
    "  if not status:\n",
    "    print(\"Error while saving mask {}.\".format(filename))\n",
    "  \n",
    "counter_test = 0\n",
    "for filename in os.listdir(CHINA_XRAYS_PATH):\n",
    "  if not filename.startswith('CHNCXR'):\n",
    "    continue\n",
    "  if filename not in china_masks_names:\n",
    "    if counter_test < 80:\n",
    "      test_df = test_df.append({\"filename\": filename, \"label\": int(filename[-5])}, ignore_index=True)\n",
    "      china_image = cv2.imread(os.path.join(CHINA_XRAYS_PATH, filename))\n",
    "      status = cv2.imwrite(os.path.join(TEST_PATH, filename), \n",
    "                        cv2.resize(china_image, (IMG_SIZE, IMG_SIZE)))\n",
    "      counter_test += 1\n",
    "\n",
    "      if not status:\n",
    "        print(\"Error while saving mask {}.\".format(filename))\n",
    "    else:\n",
    "      train_df = train_df.append({\"filename\": filename, \"label\": int(filename[-5])}, \n",
    "                                                         ignore_index=True)\n",
    "      counter_test += 1"
   ]
  },
  {
   "cell_type": "markdown",
   "metadata": {
    "id": "geJad1C-G9rw"
   },
   "source": [
    "Let's save filenames of all x-rays from montgomery dataset (they all have masks) in all_data dataframe to split them into train, validation and test then."
   ]
  },
  {
   "cell_type": "code",
   "execution_count": null,
   "metadata": {
    "id": "RzMxJSRgfJ39"
   },
   "outputs": [],
   "source": [
    "counter = 0\n",
    "\n",
    "for filename in os.listdir(MONTGOMERY_XRAYS_PATH):\n",
    "  if not filename.startswith('MCUCXR'):\n",
    "    continue\n",
    "  if counter < 10:\n",
    "    test_df = test_df.append({\"filename\": filename, \"label\": int(filename[-5])}, ignore_index=True)\n",
    "    image = cv2.imread(os.path.join(MONTGOMERY_XRAYS_PATH, filename))\n",
    "    status = cv2.imwrite(os.path.join(TEST_PATH, filename), \n",
    "                       cv2.resize(image, (IMG_SIZE, IMG_SIZE)))\n",
    "    counter += 1\n",
    "    if not status:\n",
    "      print(\"Error while saving mask {}.\".format(filename))\n",
    "  else:\n",
    "    all_data = all_data.append({\"filename\": filename, \"label\": int(filename[-5])}, ignore_index=True)\n",
    "    counter += 1"
   ]
  },
  {
   "cell_type": "code",
   "execution_count": null,
   "metadata": {
    "id": "aqkFwDpfTxak"
   },
   "outputs": [],
   "source": [
    "# 1\n",
    "\n",
    "model_train_data, unet_data = train_test_split(all_data, test_size=0.273, random_state=42)"
   ]
  },
  {
   "cell_type": "code",
   "execution_count": null,
   "metadata": {
    "colab": {
     "base_uri": "https://localhost:8080/"
    },
    "executionInfo": {
     "elapsed": 533,
     "status": "ok",
     "timestamp": 1616343963857,
     "user": {
      "displayName": "Наталья Дроздова",
      "photoUrl": "",
      "userId": "15048798673803495055"
     },
     "user_tz": -180
    },
    "id": "sGJ_bmwZmz4j",
    "outputId": "3ff24496-26a0-4dcf-fd21-69ab53f7cd02"
   },
   "outputs": [
    {
     "data": {
      "text/plain": [
       "(504, 190)"
      ]
     },
     "execution_count": 132,
     "metadata": {
      "tags": []
     },
     "output_type": "execute_result"
    }
   ],
   "source": [
    "len(model_train_data), len(unet_data)"
   ]
  },
  {
   "cell_type": "code",
   "execution_count": null,
   "metadata": {
    "id": "A_GvK9naQfwk"
   },
   "outputs": [],
   "source": [
    "# 2\n",
    "model_train, val_df = train_test_split(model_train_data, test_size=0.1785, random_state=41)"
   ]
  },
  {
   "cell_type": "code",
   "execution_count": null,
   "metadata": {
    "colab": {
     "base_uri": "https://localhost:8080/"
    },
    "executionInfo": {
     "elapsed": 648,
     "status": "ok",
     "timestamp": 1616343996529,
     "user": {
      "displayName": "Наталья Дроздова",
      "photoUrl": "",
      "userId": "15048798673803495055"
     },
     "user_tz": -180
    },
    "id": "V8h6W1D2m9Vv",
    "outputId": "20ec077a-846d-49d1-8612-ac03a8b490cd"
   },
   "outputs": [
    {
     "data": {
      "text/plain": [
       "(414, 90)"
      ]
     },
     "execution_count": 134,
     "metadata": {
      "tags": []
     },
     "output_type": "execute_result"
    }
   ],
   "source": [
    "len(model_train), len(val_df)"
   ]
  },
  {
   "cell_type": "code",
   "execution_count": null,
   "metadata": {
    "id": "Yuxra_8njptP"
   },
   "outputs": [],
   "source": [
    "train_df = train_df.append(model_train, ignore_index=True)"
   ]
  },
  {
   "cell_type": "code",
   "execution_count": null,
   "metadata": {
    "colab": {
     "base_uri": "https://localhost:8080/"
    },
    "executionInfo": {
     "elapsed": 610,
     "status": "ok",
     "timestamp": 1616344097794,
     "user": {
      "displayName": "Наталья Дроздова",
      "photoUrl": "",
      "userId": "15048798673803495055"
     },
     "user_tz": -180
    },
    "id": "UVWaMMXdnMHP",
    "outputId": "f5f00486-e561-46bf-8033-f6c129fd2061"
   },
   "outputs": [
    {
     "data": {
      "text/plain": [
       "(430, 90, 90)"
      ]
     },
     "execution_count": 139,
     "metadata": {
      "tags": []
     },
     "output_type": "execute_result"
    }
   ],
   "source": [
    "len(train_df), len(val_df), len(test_df)"
   ]
  },
  {
   "cell_type": "code",
   "execution_count": null,
   "metadata": {
    "id": "KB4t5oZJOz3D"
   },
   "outputs": [],
   "source": [
    "# save dataframes\n",
    "basic_path = 'drive/MyDrive/course_project/'\n",
    "\n",
    "train_df.to_csv(basic_path + 'train.csv')\n",
    "val_df.to_csv(basic_path + 'val.csv')\n",
    "test_df.to_csv(basic_path + 'test.csv')\n"
   ]
  },
  {
   "cell_type": "code",
   "execution_count": null,
   "metadata": {
    "id": "3_YVesiiTxd6"
   },
   "outputs": [],
   "source": [
    "# 3\n",
    "\n",
    "train_val_unet, test_unet_df = train_test_split(unet_data, test_size=0.127, random_state=40)"
   ]
  },
  {
   "cell_type": "code",
   "execution_count": null,
   "metadata": {
    "id": "eSjmHe8STxhq"
   },
   "outputs": [],
   "source": [
    "# 4\n",
    "\n",
    "train_unet_df, val_unet_df = train_test_split(train_val_unet, test_size=0.15, random_state=39)"
   ]
  },
  {
   "cell_type": "code",
   "execution_count": null,
   "metadata": {
    "colab": {
     "base_uri": "https://localhost:8080/"
    },
    "executionInfo": {
     "elapsed": 556,
     "status": "ok",
     "timestamp": 1616344432543,
     "user": {
      "displayName": "Наталья Дроздова",
      "photoUrl": "",
      "userId": "15048798673803495055"
     },
     "user_tz": -180
    },
    "id": "H1wRoucZWM1m",
    "outputId": "355530c1-094b-48ae-84f2-a03aecb882cd"
   },
   "outputs": [
    {
     "data": {
      "text/plain": [
       "(140, 25, 25)"
      ]
     },
     "execution_count": 155,
     "metadata": {
      "tags": []
     },
     "output_type": "execute_result"
    }
   ],
   "source": [
    "len(train_unet_df), len(val_unet_df), len(test_unet_df)"
   ]
  },
  {
   "cell_type": "code",
   "execution_count": null,
   "metadata": {
    "id": "4Pcfi_GUWNC1"
   },
   "outputs": [],
   "source": [
    "basic_path = 'drive/MyDrive/course_project/'\n",
    "\n",
    "train_unet_df.to_csv(basic_path + 'unet_train.csv')\n",
    "val_unet_df.to_csv(basic_path + 'unet_val.csv')\n",
    "test_unet_df.to_csv(basic_path + 'unet_test.csv')"
   ]
  },
  {
   "cell_type": "markdown",
   "metadata": {
    "id": "lEQFBDi7o1kE"
   },
   "source": [
    "Let's resave resized ($512 \\times 512$) images in train, validation and test directories"
   ]
  },
  {
   "cell_type": "code",
   "execution_count": null,
   "metadata": {
    "id": "-1Lwz-z3WM4k"
   },
   "outputs": [],
   "source": [
    "for _, row in train_df.iterrows():\n",
    "  if row['filename'].startswith('CHNCXR'):\n",
    "    image = cv2.imread(os.path.join(CHINA_XRAYS_PATH, row['filename']))\n",
    "    status = cv2.imwrite(os.path.join(TRAIN_PATH, row['filename']), \n",
    "                       cv2.resize(image, (IMG_SIZE, IMG_SIZE)))\n",
    "  elif row['filename'].startswith('MCUCXR'):\n",
    "    image = cv2.imread(os.path.join(MONTGOMERY_XRAYS_PATH, row['filename']))\n",
    "    status = cv2.imwrite(os.path.join(TRAIN_PATH, row['filename']), \n",
    "                       cv2.resize(image, (IMG_SIZE, IMG_SIZE)))\n",
    "  else:\n",
    "    print('Unknown file in train!')\n",
    "  if not status:\n",
    "    print(\"Error while saving mask {}.\".format(row['filename']))"
   ]
  },
  {
   "cell_type": "code",
   "execution_count": null,
   "metadata": {
    "id": "b4_2WpjCWM9g"
   },
   "outputs": [],
   "source": [
    "for _, row in val_df.iterrows():\n",
    "  if row['filename'].startswith('CHNCXR'):\n",
    "    image = cv2.imread(os.path.join(CHINA_XRAYS_PATH, row['filename']))\n",
    "    status = cv2.imwrite(os.path.join(VAL_PATH, row['filename']), \n",
    "                       cv2.resize(image, (IMG_SIZE, IMG_SIZE)))\n",
    "  elif row['filename'].startswith('MCUCXR'):\n",
    "    image = cv2.imread(os.path.join(MONTGOMERY_XRAYS_PATH, row['filename']))\n",
    "    status = cv2.imwrite(os.path.join(VAL_PATH, row['filename']), \n",
    "                       cv2.resize(image, (IMG_SIZE, IMG_SIZE)))\n",
    "  else:\n",
    "    print('Unknown file in train!')\n",
    "  if not status:\n",
    "    print(\"Error while saving mask {}.\".format(row['filename']))"
   ]
  },
  {
   "cell_type": "code",
   "execution_count": null,
   "metadata": {
    "id": "tQOI3u3GWNAP"
   },
   "outputs": [],
   "source": [
    "for _, row in train_unet_df.iterrows():\n",
    "  if row['filename'].startswith('CHNCXR'):\n",
    "    image = cv2.imread(os.path.join(CHINA_XRAYS_PATH, row['filename']))\n",
    "    status = cv2.imwrite(os.path.join(TRAIN_UNET_PATH, row['filename']), \n",
    "                       cv2.resize(image, (IMG_SIZE, IMG_SIZE)))\n",
    "  elif row['filename'].startswith('MCUCXR'):\n",
    "    image = cv2.imread(os.path.join(MONTGOMERY_XRAYS_PATH, row['filename']))\n",
    "    status = cv2.imwrite(os.path.join(TRAIN_UNET_PATH, row['filename']), \n",
    "                       cv2.resize(image, (IMG_SIZE, IMG_SIZE)))\n",
    "  else:\n",
    "    print('Unknown file in train!')\n",
    "  if not status:\n",
    "    print(\"Error while saving mask {}.\".format(row['filename']))"
   ]
  },
  {
   "cell_type": "code",
   "execution_count": null,
   "metadata": {
    "id": "AQ7o755EHpnO"
   },
   "outputs": [],
   "source": [
    "for _, row in val_unet_df.iterrows():\n",
    "  if row['filename'].startswith('CHNCXR'):\n",
    "    image = cv2.imread(os.path.join(CHINA_XRAYS_PATH, row['filename']))\n",
    "    status = cv2.imwrite(os.path.join(VAL_UNET_PATH, row['filename']), \n",
    "                       cv2.resize(image, (IMG_SIZE, IMG_SIZE)))\n",
    "  elif row['filename'].startswith('MCUCXR'):\n",
    "    image = cv2.imread(os.path.join(MONTGOMERY_XRAYS_PATH, row['filename']))\n",
    "    status = cv2.imwrite(os.path.join(VAL_UNET_PATH, row['filename']), \n",
    "                       cv2.resize(image, (IMG_SIZE, IMG_SIZE)))\n",
    "  else:\n",
    "    print('Unknown file in train!')\n",
    "  if not status:\n",
    "    print(\"Error while saving mask {}.\".format(row['filename']))"
   ]
  },
  {
   "cell_type": "code",
   "execution_count": null,
   "metadata": {
    "id": "wEIrJbsRHpqN"
   },
   "outputs": [],
   "source": [
    "for _, row in test_unet_df.iterrows():\n",
    "  if row['filename'].startswith('CHNCXR'):\n",
    "    image = cv2.imread(os.path.join(CHINA_XRAYS_PATH, row['filename']))\n",
    "    status = cv2.imwrite(os.path.join(TEST_UNET_PATH, row['filename']), \n",
    "                       cv2.resize(image, (IMG_SIZE, IMG_SIZE)))\n",
    "  elif row['filename'].startswith('MCUCXR'):\n",
    "    image = cv2.imread(os.path.join(MONTGOMERY_XRAYS_PATH, row['filename']))\n",
    "    status = cv2.imwrite(os.path.join(TEST_UNET_PATH, row['filename']), \n",
    "                       cv2.resize(image, (IMG_SIZE, IMG_SIZE)))\n",
    "  else:\n",
    "    print('Unknown file in train!')\n",
    "  if not status:\n",
    "    print(\"Error while saving mask {}.\".format(row['filename']))"
   ]
  },
  {
   "cell_type": "code",
   "execution_count": null,
   "metadata": {
    "colab": {
     "base_uri": "https://localhost:8080/"
    },
    "executionInfo": {
     "elapsed": 660,
     "status": "ok",
     "timestamp": 1616348221139,
     "user": {
      "displayName": "Наталья Дроздова",
      "photoUrl": "",
      "userId": "15048798673803495055"
     },
     "user_tz": -180
    },
    "id": "nP6RAq472AcK",
    "outputId": "dc8d9583-8361-4666-ec30-9d9eb4a0584c"
   },
   "outputs": [
    {
     "data": {
      "text/plain": [
       "1    219\n",
       "0    211\n",
       "Name: label, dtype: int64"
      ]
     },
     "execution_count": 173,
     "metadata": {
      "tags": []
     },
     "output_type": "execute_result"
    }
   ],
   "source": [
    "train_df['label'].value_counts()"
   ]
  },
  {
   "cell_type": "code",
   "execution_count": null,
   "metadata": {
    "colab": {
     "base_uri": "https://localhost:8080/"
    },
    "executionInfo": {
     "elapsed": 596,
     "status": "ok",
     "timestamp": 1616348287516,
     "user": {
      "displayName": "Наталья Дроздова",
      "photoUrl": "",
      "userId": "15048798673803495055"
     },
     "user_tz": -180
    },
    "id": "3fiw2hTIHpvn",
    "outputId": "6a668f1e-cebc-4306-a3d3-87de3dbdce36"
   },
   "outputs": [
    {
     "data": {
      "text/plain": [
       "0    46\n",
       "1    44\n",
       "Name: label, dtype: int64"
      ]
     },
     "execution_count": 177,
     "metadata": {
      "tags": []
     },
     "output_type": "execute_result"
    }
   ],
   "source": [
    "val_df['label'].value_counts()"
   ]
  },
  {
   "cell_type": "code",
   "execution_count": null,
   "metadata": {
    "colab": {
     "base_uri": "https://localhost:8080/"
    },
    "executionInfo": {
     "elapsed": 548,
     "status": "ok",
     "timestamp": 1616348265136,
     "user": {
      "displayName": "Наталья Дроздова",
      "photoUrl": "",
      "userId": "15048798673803495055"
     },
     "user_tz": -180
    },
    "id": "Y0kLsyQmHpsy",
    "outputId": "888c4055-e3cc-464e-c755-71fc75e28e15"
   },
   "outputs": [
    {
     "data": {
      "text/plain": [
       "0    57\n",
       "1    33\n",
       "Name: label, dtype: int64"
      ]
     },
     "execution_count": 176,
     "metadata": {
      "tags": []
     },
     "output_type": "execute_result"
    }
   ],
   "source": [
    "test_df['label'].value_counts()"
   ]
  },
  {
   "cell_type": "code",
   "execution_count": null,
   "metadata": {
    "id": "k1ht0E0N3Jik"
   },
   "outputs": [],
   "source": []
  },
  {
   "cell_type": "code",
   "execution_count": null,
   "metadata": {
    "id": "f1RM92mlHpyr"
   },
   "outputs": [],
   "source": []
  }
 ],
 "metadata": {
  "colab": {
   "authorship_tag": "ABX9TyPVM6jXquBrfuSRk0tCgSOg",
   "collapsed_sections": [],
   "name": "[1] Data_preparation.ipynb",
   "provenance": []
  },
  "kernelspec": {
   "display_name": "Python 3",
   "language": "python",
   "name": "python3"
  },
  "language_info": {
   "codemirror_mode": {
    "name": "ipython",
    "version": 3
   },
   "file_extension": ".py",
   "mimetype": "text/x-python",
   "name": "python",
   "nbconvert_exporter": "python",
   "pygments_lexer": "ipython3",
   "version": "3.7.3"
  }
 },
 "nbformat": 4,
 "nbformat_minor": 1
}
